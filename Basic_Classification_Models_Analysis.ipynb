{
 "cells": [
  {
   "cell_type": "markdown",
   "metadata": {},
   "source": [
    "#### Basic Classification\n",
    "\n",
    "The following notebook performs classification analysis using a variety of machine learning algorithms.The algorithms are trained using known income levels and personal characteristics of a population. After som data cleaning and exploration, a subset of features are extracted and used as the predictors in four different machine learning algorithms. The models are used to predict the income bracket of a person based on input characteristics.\n",
    "\n",
    "The purpose is to explore the accuracy of various models and to perform tuning of the models to improve accuracy."
   ]
  },
  {
   "cell_type": "code",
   "execution_count": 7,
   "metadata": {},
   "outputs": [
    {
     "name": "stdout",
     "output_type": "stream",
     "text": [
      "The autotime extension is already loaded. To reload it, use:\n",
      "  %reload_ext autotime\n",
      "time: 52 ms\n"
     ]
    }
   ],
   "source": [
    "import pandas as pd\n",
    "import numpy as np\n",
    "import matplotlib.pyplot as plt\n",
    "import scipy as sp\n",
    "import sklearn as skl\n",
    "from tqdm import tqdm\n",
    "from sklearn.preprocessing import LabelEncoder\n",
    "import seaborn as sns\n",
    "from sklearn.feature_selection import mutual_info_classif\n",
    "from sklearn.decomposition import PCA \n",
    "from sklearn.neighbors import KNeighborsClassifier\n",
    "from sklearn.cross_validation import StratifiedKFold\n",
    "import sklearn.metrics as metrics \n",
    "from sklearn.svm import SVC\n",
    "from sklearn.ensemble import RandomForestClassifier, AdaBoostClassifier, GradientBoostingClassifier\n",
    "from sklearn.tree import DecisionTreeClassifier\n",
    "from sklearn import neighbors\n",
    "from sklearn.metrics import accuracy_score\n",
    "from xgboost import XGBClassifier\n",
    "from sklearn.linear_model import LogisticRegression\n",
    "from sklearn.model_selection import GridSearchCV\n",
    "from sklearn.cross_validation import cross_val_score\n",
    "from sklearn.model_selection import KFold\n",
    "import math\n",
    "\n",
    "%matplotlib inline\n",
    "%load_ext autotime\n",
    "#%unload_ext autotime"
   ]
  },
  {
   "cell_type": "code",
   "execution_count": 8,
   "metadata": {},
   "outputs": [
    {
     "name": "stdout",
     "output_type": "stream",
     "text": [
      "time: 72 ms\n"
     ]
    }
   ],
   "source": [
    "#Learning Curve Plot\n",
    "from sklearn.model_selection import learning_curve\n",
    "def plot_learning_curve(estimator, title, X, y, ylim=None, cv=None, n_jobs=1,\\\n",
    "                        train_sizes=np.linspace(.1, 1.0, 5), scoring='accuracy'):\n",
    "    \n",
    "    plt.figure(figsize=(10,6))\n",
    "    plt.title(title)\n",
    "    \n",
    "    if ylim is not None:\n",
    "        plt.ylim(*ylim)\n",
    "        \n",
    "    plt.xlabel(\"Training examples\")\n",
    "    plt.ylabel(scoring)\n",
    "    \n",
    "    train_sizes, train_scores, test_scores = learning_curve(estimator, X, y, cv=cv, scoring=scoring, n_jobs=n_jobs, train_sizes=train_sizes)\n",
    "    train_scores_mean = np.mean(train_scores, axis=1)\n",
    "    train_scores_std = np.std(train_scores, axis=1)\n",
    "    test_scores_mean = np.mean(test_scores, axis=1)\n",
    "    test_scores_std = np.std(test_scores, axis=1)\n",
    "    \n",
    "    plt.grid()\n",
    "\n",
    "    plt.fill_between(train_sizes, train_scores_mean - train_scores_std,\\\n",
    "                     train_scores_mean + train_scores_std, alpha=0.1, \\\n",
    "                     color=\"r\")\n",
    "    plt.fill_between(train_sizes, test_scores_mean - test_scores_std,\\\n",
    "                     test_scores_mean + test_scores_std, alpha=0.1, color=\"g\")\n",
    "    \n",
    "    plt.plot(train_sizes, train_scores_mean, 'o-', color=\"r\",label=\"Training score\")\n",
    "    plt.plot(train_sizes, test_scores_mean, 'o-', color=\"g\", label=\"Cross-validation score\")\n",
    "    plt.legend(loc=\"best\")\n",
    "    \n",
    "    return plt"
   ]
  },
  {
   "cell_type": "markdown",
   "metadata": {},
   "source": [
    "## 0. Read in Files"
   ]
  },
  {
   "cell_type": "code",
   "execution_count": 9,
   "metadata": {},
   "outputs": [
    {
     "name": "stdout",
     "output_type": "stream",
     "text": [
      "time: 96 ms\n"
     ]
    }
   ],
   "source": [
    "# Read in Training Data\n",
    "training = pd.read_csv(\"income-training.csv\")"
   ]
  },
  {
   "cell_type": "code",
   "execution_count": 10,
   "metadata": {},
   "outputs": [
    {
     "name": "stdout",
     "output_type": "stream",
     "text": [
      "time: 72 ms\n"
     ]
    }
   ],
   "source": [
    "# Read in Testing Data\n",
    "testing = pd.read_csv(\"income-testing.csv\")"
   ]
  },
  {
   "cell_type": "code",
   "execution_count": 11,
   "metadata": {},
   "outputs": [
    {
     "data": {
      "text/html": [
       "<div>\n",
       "<style>\n",
       "    .dataframe thead tr:only-child th {\n",
       "        text-align: right;\n",
       "    }\n",
       "\n",
       "    .dataframe thead th {\n",
       "        text-align: left;\n",
       "    }\n",
       "\n",
       "    .dataframe tbody tr th {\n",
       "        vertical-align: top;\n",
       "    }\n",
       "</style>\n",
       "<table border=\"1\" class=\"dataframe\">\n",
       "  <thead>\n",
       "    <tr style=\"text-align: right;\">\n",
       "      <th></th>\n",
       "      <th>Age</th>\n",
       "      <th>WorkClass</th>\n",
       "      <th>FinalWeight</th>\n",
       "      <th>Education</th>\n",
       "      <th>EducationLvl</th>\n",
       "      <th>MaritalStatus</th>\n",
       "      <th>Occupation</th>\n",
       "      <th>Relationship</th>\n",
       "      <th>Race</th>\n",
       "      <th>Sex</th>\n",
       "      <th>CapitalGain</th>\n",
       "      <th>CapitalLoss</th>\n",
       "      <th>HoursPerWeek</th>\n",
       "      <th>NativeCountry</th>\n",
       "      <th>IncomeBracket</th>\n",
       "    </tr>\n",
       "  </thead>\n",
       "  <tbody>\n",
       "    <tr>\n",
       "      <th>0</th>\n",
       "      <td>42</td>\n",
       "      <td>State-gov</td>\n",
       "      <td>179151</td>\n",
       "      <td>Some-college</td>\n",
       "      <td>10</td>\n",
       "      <td>Married-civ-spouse</td>\n",
       "      <td>Farming-fishing</td>\n",
       "      <td>Husband</td>\n",
       "      <td>White</td>\n",
       "      <td>Male</td>\n",
       "      <td>0</td>\n",
       "      <td>0</td>\n",
       "      <td>40</td>\n",
       "      <td>United-States</td>\n",
       "      <td>&lt;50K</td>\n",
       "    </tr>\n",
       "    <tr>\n",
       "      <th>1</th>\n",
       "      <td>28</td>\n",
       "      <td>Private</td>\n",
       "      <td>68021</td>\n",
       "      <td>Some-college</td>\n",
       "      <td>10</td>\n",
       "      <td>Never-married</td>\n",
       "      <td>Other-service</td>\n",
       "      <td>Not-in-family</td>\n",
       "      <td>White</td>\n",
       "      <td>Female</td>\n",
       "      <td>0</td>\n",
       "      <td>0</td>\n",
       "      <td>30</td>\n",
       "      <td>United-States</td>\n",
       "      <td>&lt;50K</td>\n",
       "    </tr>\n",
       "    <tr>\n",
       "      <th>2</th>\n",
       "      <td>24</td>\n",
       "      <td>Private</td>\n",
       "      <td>233499</td>\n",
       "      <td>Some-college</td>\n",
       "      <td>10</td>\n",
       "      <td>Married-civ-spouse</td>\n",
       "      <td>Transport-moving</td>\n",
       "      <td>Husband</td>\n",
       "      <td>White</td>\n",
       "      <td>Male</td>\n",
       "      <td>0</td>\n",
       "      <td>0</td>\n",
       "      <td>40</td>\n",
       "      <td>United-States</td>\n",
       "      <td>50-100K</td>\n",
       "    </tr>\n",
       "    <tr>\n",
       "      <th>3</th>\n",
       "      <td>32</td>\n",
       "      <td>Self-emp-not-inc</td>\n",
       "      <td>168782</td>\n",
       "      <td>9th</td>\n",
       "      <td>5</td>\n",
       "      <td>Married-civ-spouse</td>\n",
       "      <td>Craft-repair</td>\n",
       "      <td>Husband</td>\n",
       "      <td>White</td>\n",
       "      <td>Male</td>\n",
       "      <td>0</td>\n",
       "      <td>0</td>\n",
       "      <td>32</td>\n",
       "      <td>United-States</td>\n",
       "      <td>&lt;50K</td>\n",
       "    </tr>\n",
       "    <tr>\n",
       "      <th>4</th>\n",
       "      <td>55</td>\n",
       "      <td>Self-emp-not-inc</td>\n",
       "      <td>105582</td>\n",
       "      <td>Masters</td>\n",
       "      <td>14</td>\n",
       "      <td>Married-civ-spouse</td>\n",
       "      <td>Sales</td>\n",
       "      <td>Husband</td>\n",
       "      <td>White</td>\n",
       "      <td>Male</td>\n",
       "      <td>2228</td>\n",
       "      <td>0</td>\n",
       "      <td>50</td>\n",
       "      <td>United-States</td>\n",
       "      <td>&lt;50K</td>\n",
       "    </tr>\n",
       "    <tr>\n",
       "      <th>5</th>\n",
       "      <td>35</td>\n",
       "      <td>Private</td>\n",
       "      <td>261241</td>\n",
       "      <td>HS-grad</td>\n",
       "      <td>9</td>\n",
       "      <td>Divorced</td>\n",
       "      <td>Transport-moving</td>\n",
       "      <td>Not-in-family</td>\n",
       "      <td>White</td>\n",
       "      <td>Male</td>\n",
       "      <td>0</td>\n",
       "      <td>1741</td>\n",
       "      <td>60</td>\n",
       "      <td>United-States</td>\n",
       "      <td>&lt;50K</td>\n",
       "    </tr>\n",
       "    <tr>\n",
       "      <th>6</th>\n",
       "      <td>51</td>\n",
       "      <td>Private</td>\n",
       "      <td>200576</td>\n",
       "      <td>Bachelors</td>\n",
       "      <td>13</td>\n",
       "      <td>Divorced</td>\n",
       "      <td>Adm-clerical</td>\n",
       "      <td>Not-in-family</td>\n",
       "      <td>White</td>\n",
       "      <td>Female</td>\n",
       "      <td>0</td>\n",
       "      <td>0</td>\n",
       "      <td>40</td>\n",
       "      <td>United-States</td>\n",
       "      <td>&lt;50K</td>\n",
       "    </tr>\n",
       "    <tr>\n",
       "      <th>7</th>\n",
       "      <td>43</td>\n",
       "      <td>Self-emp-inc</td>\n",
       "      <td>175715</td>\n",
       "      <td>HS-grad</td>\n",
       "      <td>9</td>\n",
       "      <td>Never-married</td>\n",
       "      <td>Exec-managerial</td>\n",
       "      <td>Not-in-family</td>\n",
       "      <td>Black</td>\n",
       "      <td>Male</td>\n",
       "      <td>0</td>\n",
       "      <td>0</td>\n",
       "      <td>55</td>\n",
       "      <td>United-States</td>\n",
       "      <td>&lt;50K</td>\n",
       "    </tr>\n",
       "    <tr>\n",
       "      <th>8</th>\n",
       "      <td>29</td>\n",
       "      <td>State-gov</td>\n",
       "      <td>188986</td>\n",
       "      <td>Assoc-voc</td>\n",
       "      <td>11</td>\n",
       "      <td>Never-married</td>\n",
       "      <td>Tech-support</td>\n",
       "      <td>Not-in-family</td>\n",
       "      <td>White</td>\n",
       "      <td>Female</td>\n",
       "      <td>0</td>\n",
       "      <td>1590</td>\n",
       "      <td>64</td>\n",
       "      <td>United-States</td>\n",
       "      <td>&lt;50K</td>\n",
       "    </tr>\n",
       "    <tr>\n",
       "      <th>9</th>\n",
       "      <td>65</td>\n",
       "      <td>NaN</td>\n",
       "      <td>137354</td>\n",
       "      <td>Some-college</td>\n",
       "      <td>10</td>\n",
       "      <td>Married-civ-spouse</td>\n",
       "      <td>NaN</td>\n",
       "      <td>Husband</td>\n",
       "      <td>Asian-Pac-Islander</td>\n",
       "      <td>Male</td>\n",
       "      <td>0</td>\n",
       "      <td>0</td>\n",
       "      <td>20</td>\n",
       "      <td>United-States</td>\n",
       "      <td>&lt;50K</td>\n",
       "    </tr>\n",
       "    <tr>\n",
       "      <th>10</th>\n",
       "      <td>35</td>\n",
       "      <td>Private</td>\n",
       "      <td>241998</td>\n",
       "      <td>HS-grad</td>\n",
       "      <td>9</td>\n",
       "      <td>Never-married</td>\n",
       "      <td>Sales</td>\n",
       "      <td>Not-in-family</td>\n",
       "      <td>White</td>\n",
       "      <td>Male</td>\n",
       "      <td>4787</td>\n",
       "      <td>0</td>\n",
       "      <td>40</td>\n",
       "      <td>United-States</td>\n",
       "      <td>&gt;100K</td>\n",
       "    </tr>\n",
       "    <tr>\n",
       "      <th>11</th>\n",
       "      <td>20</td>\n",
       "      <td>Private</td>\n",
       "      <td>146538</td>\n",
       "      <td>HS-grad</td>\n",
       "      <td>9</td>\n",
       "      <td>Married-civ-spouse</td>\n",
       "      <td>Machine-op-inspct</td>\n",
       "      <td>Husband</td>\n",
       "      <td>White</td>\n",
       "      <td>Male</td>\n",
       "      <td>0</td>\n",
       "      <td>0</td>\n",
       "      <td>40</td>\n",
       "      <td>United-States</td>\n",
       "      <td>&lt;50K</td>\n",
       "    </tr>\n",
       "    <tr>\n",
       "      <th>12</th>\n",
       "      <td>45</td>\n",
       "      <td>Federal-gov</td>\n",
       "      <td>162410</td>\n",
       "      <td>Some-college</td>\n",
       "      <td>10</td>\n",
       "      <td>Widowed</td>\n",
       "      <td>Tech-support</td>\n",
       "      <td>Not-in-family</td>\n",
       "      <td>White</td>\n",
       "      <td>Female</td>\n",
       "      <td>0</td>\n",
       "      <td>0</td>\n",
       "      <td>45</td>\n",
       "      <td>United-States</td>\n",
       "      <td>50-100K</td>\n",
       "    </tr>\n",
       "    <tr>\n",
       "      <th>13</th>\n",
       "      <td>32</td>\n",
       "      <td>Private</td>\n",
       "      <td>394708</td>\n",
       "      <td>HS-grad</td>\n",
       "      <td>9</td>\n",
       "      <td>Never-married</td>\n",
       "      <td>Other-service</td>\n",
       "      <td>Unmarried</td>\n",
       "      <td>Black</td>\n",
       "      <td>Male</td>\n",
       "      <td>0</td>\n",
       "      <td>0</td>\n",
       "      <td>40</td>\n",
       "      <td>United-States</td>\n",
       "      <td>&lt;50K</td>\n",
       "    </tr>\n",
       "    <tr>\n",
       "      <th>14</th>\n",
       "      <td>52</td>\n",
       "      <td>Private</td>\n",
       "      <td>245127</td>\n",
       "      <td>9th</td>\n",
       "      <td>5</td>\n",
       "      <td>Married-civ-spouse</td>\n",
       "      <td>Handlers-cleaners</td>\n",
       "      <td>Husband</td>\n",
       "      <td>White</td>\n",
       "      <td>Male</td>\n",
       "      <td>0</td>\n",
       "      <td>0</td>\n",
       "      <td>40</td>\n",
       "      <td>Outlying-US(Guam-USVI-etc)</td>\n",
       "      <td>&lt;50K</td>\n",
       "    </tr>\n",
       "    <tr>\n",
       "      <th>15</th>\n",
       "      <td>28</td>\n",
       "      <td>Private</td>\n",
       "      <td>566066</td>\n",
       "      <td>Some-college</td>\n",
       "      <td>10</td>\n",
       "      <td>Never-married</td>\n",
       "      <td>Adm-clerical</td>\n",
       "      <td>Not-in-family</td>\n",
       "      <td>Black</td>\n",
       "      <td>Female</td>\n",
       "      <td>0</td>\n",
       "      <td>0</td>\n",
       "      <td>45</td>\n",
       "      <td>United-States</td>\n",
       "      <td>&lt;50K</td>\n",
       "    </tr>\n",
       "    <tr>\n",
       "      <th>16</th>\n",
       "      <td>20</td>\n",
       "      <td>Private</td>\n",
       "      <td>249543</td>\n",
       "      <td>Some-college</td>\n",
       "      <td>10</td>\n",
       "      <td>Never-married</td>\n",
       "      <td>Protective-serv</td>\n",
       "      <td>Own-child</td>\n",
       "      <td>White</td>\n",
       "      <td>Female</td>\n",
       "      <td>0</td>\n",
       "      <td>0</td>\n",
       "      <td>16</td>\n",
       "      <td>United-States</td>\n",
       "      <td>&lt;50K</td>\n",
       "    </tr>\n",
       "    <tr>\n",
       "      <th>17</th>\n",
       "      <td>43</td>\n",
       "      <td>State-gov</td>\n",
       "      <td>30824</td>\n",
       "      <td>Some-college</td>\n",
       "      <td>10</td>\n",
       "      <td>Divorced</td>\n",
       "      <td>Adm-clerical</td>\n",
       "      <td>Not-in-family</td>\n",
       "      <td>White</td>\n",
       "      <td>Female</td>\n",
       "      <td>0</td>\n",
       "      <td>0</td>\n",
       "      <td>40</td>\n",
       "      <td>United-States</td>\n",
       "      <td>&lt;50K</td>\n",
       "    </tr>\n",
       "    <tr>\n",
       "      <th>18</th>\n",
       "      <td>25</td>\n",
       "      <td>Private</td>\n",
       "      <td>197871</td>\n",
       "      <td>Bachelors</td>\n",
       "      <td>13</td>\n",
       "      <td>Never-married</td>\n",
       "      <td>Exec-managerial</td>\n",
       "      <td>Not-in-family</td>\n",
       "      <td>White</td>\n",
       "      <td>Male</td>\n",
       "      <td>0</td>\n",
       "      <td>0</td>\n",
       "      <td>50</td>\n",
       "      <td>United-States</td>\n",
       "      <td>&lt;50K</td>\n",
       "    </tr>\n",
       "    <tr>\n",
       "      <th>19</th>\n",
       "      <td>45</td>\n",
       "      <td>Private</td>\n",
       "      <td>175625</td>\n",
       "      <td>HS-grad</td>\n",
       "      <td>9</td>\n",
       "      <td>Separated</td>\n",
       "      <td>Adm-clerical</td>\n",
       "      <td>Unmarried</td>\n",
       "      <td>White</td>\n",
       "      <td>Female</td>\n",
       "      <td>0</td>\n",
       "      <td>0</td>\n",
       "      <td>38</td>\n",
       "      <td>United-States</td>\n",
       "      <td>&lt;50K</td>\n",
       "    </tr>\n",
       "    <tr>\n",
       "      <th>20</th>\n",
       "      <td>40</td>\n",
       "      <td>Private</td>\n",
       "      <td>271393</td>\n",
       "      <td>Assoc-acdm</td>\n",
       "      <td>12</td>\n",
       "      <td>Divorced</td>\n",
       "      <td>Exec-managerial</td>\n",
       "      <td>Not-in-family</td>\n",
       "      <td>White</td>\n",
       "      <td>Female</td>\n",
       "      <td>0</td>\n",
       "      <td>0</td>\n",
       "      <td>40</td>\n",
       "      <td>United-States</td>\n",
       "      <td>&lt;50K</td>\n",
       "    </tr>\n",
       "    <tr>\n",
       "      <th>21</th>\n",
       "      <td>42</td>\n",
       "      <td>Self-emp-not-inc</td>\n",
       "      <td>320744</td>\n",
       "      <td>HS-grad</td>\n",
       "      <td>9</td>\n",
       "      <td>Married-civ-spouse</td>\n",
       "      <td>Sales</td>\n",
       "      <td>Husband</td>\n",
       "      <td>White</td>\n",
       "      <td>Male</td>\n",
       "      <td>3908</td>\n",
       "      <td>0</td>\n",
       "      <td>45</td>\n",
       "      <td>United-States</td>\n",
       "      <td>&lt;50K</td>\n",
       "    </tr>\n",
       "    <tr>\n",
       "      <th>22</th>\n",
       "      <td>30</td>\n",
       "      <td>Private</td>\n",
       "      <td>186145</td>\n",
       "      <td>Bachelors</td>\n",
       "      <td>13</td>\n",
       "      <td>Divorced</td>\n",
       "      <td>Sales</td>\n",
       "      <td>Not-in-family</td>\n",
       "      <td>White</td>\n",
       "      <td>Female</td>\n",
       "      <td>0</td>\n",
       "      <td>0</td>\n",
       "      <td>40</td>\n",
       "      <td>United-States</td>\n",
       "      <td>&lt;50K</td>\n",
       "    </tr>\n",
       "    <tr>\n",
       "      <th>23</th>\n",
       "      <td>44</td>\n",
       "      <td>Private</td>\n",
       "      <td>191256</td>\n",
       "      <td>HS-grad</td>\n",
       "      <td>9</td>\n",
       "      <td>Married-civ-spouse</td>\n",
       "      <td>Transport-moving</td>\n",
       "      <td>Husband</td>\n",
       "      <td>White</td>\n",
       "      <td>Male</td>\n",
       "      <td>0</td>\n",
       "      <td>0</td>\n",
       "      <td>65</td>\n",
       "      <td>United-States</td>\n",
       "      <td>50-100K</td>\n",
       "    </tr>\n",
       "    <tr>\n",
       "      <th>24</th>\n",
       "      <td>39</td>\n",
       "      <td>Private</td>\n",
       "      <td>150057</td>\n",
       "      <td>Some-college</td>\n",
       "      <td>10</td>\n",
       "      <td>Married-civ-spouse</td>\n",
       "      <td>Craft-repair</td>\n",
       "      <td>Husband</td>\n",
       "      <td>White</td>\n",
       "      <td>Male</td>\n",
       "      <td>0</td>\n",
       "      <td>0</td>\n",
       "      <td>55</td>\n",
       "      <td>United-States</td>\n",
       "      <td>50-100K</td>\n",
       "    </tr>\n",
       "    <tr>\n",
       "      <th>25</th>\n",
       "      <td>19</td>\n",
       "      <td>Private</td>\n",
       "      <td>162954</td>\n",
       "      <td>HS-grad</td>\n",
       "      <td>9</td>\n",
       "      <td>Never-married</td>\n",
       "      <td>Sales</td>\n",
       "      <td>Own-child</td>\n",
       "      <td>White</td>\n",
       "      <td>Female</td>\n",
       "      <td>0</td>\n",
       "      <td>0</td>\n",
       "      <td>30</td>\n",
       "      <td>United-States</td>\n",
       "      <td>&lt;50K</td>\n",
       "    </tr>\n",
       "    <tr>\n",
       "      <th>26</th>\n",
       "      <td>28</td>\n",
       "      <td>Private</td>\n",
       "      <td>167789</td>\n",
       "      <td>HS-grad</td>\n",
       "      <td>9</td>\n",
       "      <td>Never-married</td>\n",
       "      <td>Sales</td>\n",
       "      <td>Not-in-family</td>\n",
       "      <td>White</td>\n",
       "      <td>Female</td>\n",
       "      <td>0</td>\n",
       "      <td>0</td>\n",
       "      <td>60</td>\n",
       "      <td>United-States</td>\n",
       "      <td>&lt;50K</td>\n",
       "    </tr>\n",
       "    <tr>\n",
       "      <th>27</th>\n",
       "      <td>41</td>\n",
       "      <td>Private</td>\n",
       "      <td>287037</td>\n",
       "      <td>Some-college</td>\n",
       "      <td>10</td>\n",
       "      <td>Never-married</td>\n",
       "      <td>Farming-fishing</td>\n",
       "      <td>Not-in-family</td>\n",
       "      <td>White</td>\n",
       "      <td>Male</td>\n",
       "      <td>0</td>\n",
       "      <td>0</td>\n",
       "      <td>40</td>\n",
       "      <td>United-States</td>\n",
       "      <td>&lt;50K</td>\n",
       "    </tr>\n",
       "    <tr>\n",
       "      <th>28</th>\n",
       "      <td>33</td>\n",
       "      <td>Private</td>\n",
       "      <td>175856</td>\n",
       "      <td>Bachelors</td>\n",
       "      <td>13</td>\n",
       "      <td>Married-civ-spouse</td>\n",
       "      <td>Exec-managerial</td>\n",
       "      <td>Husband</td>\n",
       "      <td>White</td>\n",
       "      <td>Male</td>\n",
       "      <td>0</td>\n",
       "      <td>0</td>\n",
       "      <td>50</td>\n",
       "      <td>United-States</td>\n",
       "      <td>&gt;100K</td>\n",
       "    </tr>\n",
       "    <tr>\n",
       "      <th>29</th>\n",
       "      <td>18</td>\n",
       "      <td>NaN</td>\n",
       "      <td>118847</td>\n",
       "      <td>HS-grad</td>\n",
       "      <td>9</td>\n",
       "      <td>Never-married</td>\n",
       "      <td>NaN</td>\n",
       "      <td>Own-child</td>\n",
       "      <td>White</td>\n",
       "      <td>Female</td>\n",
       "      <td>0</td>\n",
       "      <td>0</td>\n",
       "      <td>24</td>\n",
       "      <td>United-States</td>\n",
       "      <td>&lt;50K</td>\n",
       "    </tr>\n",
       "    <tr>\n",
       "      <th>...</th>\n",
       "      <td>...</td>\n",
       "      <td>...</td>\n",
       "      <td>...</td>\n",
       "      <td>...</td>\n",
       "      <td>...</td>\n",
       "      <td>...</td>\n",
       "      <td>...</td>\n",
       "      <td>...</td>\n",
       "      <td>...</td>\n",
       "      <td>...</td>\n",
       "      <td>...</td>\n",
       "      <td>...</td>\n",
       "      <td>...</td>\n",
       "      <td>...</td>\n",
       "      <td>...</td>\n",
       "    </tr>\n",
       "    <tr>\n",
       "      <th>24391</th>\n",
       "      <td>58</td>\n",
       "      <td>Private</td>\n",
       "      <td>225603</td>\n",
       "      <td>9th</td>\n",
       "      <td>5</td>\n",
       "      <td>Divorced</td>\n",
       "      <td>Farming-fishing</td>\n",
       "      <td>Not-in-family</td>\n",
       "      <td>Black</td>\n",
       "      <td>Male</td>\n",
       "      <td>0</td>\n",
       "      <td>0</td>\n",
       "      <td>40</td>\n",
       "      <td>United-States</td>\n",
       "      <td>&lt;50K</td>\n",
       "    </tr>\n",
       "    <tr>\n",
       "      <th>24392</th>\n",
       "      <td>52</td>\n",
       "      <td>Private</td>\n",
       "      <td>114971</td>\n",
       "      <td>Some-college</td>\n",
       "      <td>10</td>\n",
       "      <td>Married-civ-spouse</td>\n",
       "      <td>Craft-repair</td>\n",
       "      <td>Husband</td>\n",
       "      <td>White</td>\n",
       "      <td>Male</td>\n",
       "      <td>0</td>\n",
       "      <td>0</td>\n",
       "      <td>40</td>\n",
       "      <td>United-States</td>\n",
       "      <td>50-100K</td>\n",
       "    </tr>\n",
       "    <tr>\n",
       "      <th>24393</th>\n",
       "      <td>31</td>\n",
       "      <td>Private</td>\n",
       "      <td>31510</td>\n",
       "      <td>Assoc-acdm</td>\n",
       "      <td>12</td>\n",
       "      <td>Married-civ-spouse</td>\n",
       "      <td>Craft-repair</td>\n",
       "      <td>Husband</td>\n",
       "      <td>White</td>\n",
       "      <td>Male</td>\n",
       "      <td>0</td>\n",
       "      <td>0</td>\n",
       "      <td>40</td>\n",
       "      <td>United-States</td>\n",
       "      <td>&lt;50K</td>\n",
       "    </tr>\n",
       "    <tr>\n",
       "      <th>24394</th>\n",
       "      <td>24</td>\n",
       "      <td>Private</td>\n",
       "      <td>180954</td>\n",
       "      <td>Some-college</td>\n",
       "      <td>10</td>\n",
       "      <td>Never-married</td>\n",
       "      <td>Other-service</td>\n",
       "      <td>Not-in-family</td>\n",
       "      <td>White</td>\n",
       "      <td>Female</td>\n",
       "      <td>0</td>\n",
       "      <td>0</td>\n",
       "      <td>40</td>\n",
       "      <td>United-States</td>\n",
       "      <td>&lt;50K</td>\n",
       "    </tr>\n",
       "    <tr>\n",
       "      <th>24395</th>\n",
       "      <td>34</td>\n",
       "      <td>Self-emp-not-inc</td>\n",
       "      <td>48935</td>\n",
       "      <td>Some-college</td>\n",
       "      <td>10</td>\n",
       "      <td>Married-civ-spouse</td>\n",
       "      <td>Farming-fishing</td>\n",
       "      <td>Wife</td>\n",
       "      <td>White</td>\n",
       "      <td>Female</td>\n",
       "      <td>0</td>\n",
       "      <td>0</td>\n",
       "      <td>30</td>\n",
       "      <td>United-States</td>\n",
       "      <td>&lt;50K</td>\n",
       "    </tr>\n",
       "    <tr>\n",
       "      <th>24396</th>\n",
       "      <td>41</td>\n",
       "      <td>Private</td>\n",
       "      <td>384508</td>\n",
       "      <td>Bachelors</td>\n",
       "      <td>13</td>\n",
       "      <td>Married-civ-spouse</td>\n",
       "      <td>Prof-specialty</td>\n",
       "      <td>Husband</td>\n",
       "      <td>White</td>\n",
       "      <td>Male</td>\n",
       "      <td>0</td>\n",
       "      <td>0</td>\n",
       "      <td>40</td>\n",
       "      <td>United-States</td>\n",
       "      <td>50-100K</td>\n",
       "    </tr>\n",
       "    <tr>\n",
       "      <th>24397</th>\n",
       "      <td>20</td>\n",
       "      <td>Private</td>\n",
       "      <td>167868</td>\n",
       "      <td>HS-grad</td>\n",
       "      <td>9</td>\n",
       "      <td>Never-married</td>\n",
       "      <td>Other-service</td>\n",
       "      <td>Not-in-family</td>\n",
       "      <td>White</td>\n",
       "      <td>Female</td>\n",
       "      <td>0</td>\n",
       "      <td>0</td>\n",
       "      <td>35</td>\n",
       "      <td>United-States</td>\n",
       "      <td>&lt;50K</td>\n",
       "    </tr>\n",
       "    <tr>\n",
       "      <th>24398</th>\n",
       "      <td>47</td>\n",
       "      <td>Private</td>\n",
       "      <td>155107</td>\n",
       "      <td>HS-grad</td>\n",
       "      <td>9</td>\n",
       "      <td>Married-civ-spouse</td>\n",
       "      <td>Tech-support</td>\n",
       "      <td>Husband</td>\n",
       "      <td>White</td>\n",
       "      <td>Male</td>\n",
       "      <td>0</td>\n",
       "      <td>0</td>\n",
       "      <td>40</td>\n",
       "      <td>United-States</td>\n",
       "      <td>&lt;50K</td>\n",
       "    </tr>\n",
       "    <tr>\n",
       "      <th>24399</th>\n",
       "      <td>20</td>\n",
       "      <td>Private</td>\n",
       "      <td>173724</td>\n",
       "      <td>Some-college</td>\n",
       "      <td>10</td>\n",
       "      <td>Never-married</td>\n",
       "      <td>Handlers-cleaners</td>\n",
       "      <td>Own-child</td>\n",
       "      <td>White</td>\n",
       "      <td>Male</td>\n",
       "      <td>0</td>\n",
       "      <td>0</td>\n",
       "      <td>20</td>\n",
       "      <td>United-States</td>\n",
       "      <td>&lt;50K</td>\n",
       "    </tr>\n",
       "    <tr>\n",
       "      <th>24400</th>\n",
       "      <td>24</td>\n",
       "      <td>Federal-gov</td>\n",
       "      <td>130534</td>\n",
       "      <td>Bachelors</td>\n",
       "      <td>13</td>\n",
       "      <td>Never-married</td>\n",
       "      <td>Exec-managerial</td>\n",
       "      <td>Not-in-family</td>\n",
       "      <td>White</td>\n",
       "      <td>Male</td>\n",
       "      <td>0</td>\n",
       "      <td>0</td>\n",
       "      <td>40</td>\n",
       "      <td>United-States</td>\n",
       "      <td>&lt;50K</td>\n",
       "    </tr>\n",
       "    <tr>\n",
       "      <th>24401</th>\n",
       "      <td>47</td>\n",
       "      <td>Private</td>\n",
       "      <td>88564</td>\n",
       "      <td>5th-6th</td>\n",
       "      <td>3</td>\n",
       "      <td>Never-married</td>\n",
       "      <td>Machine-op-inspct</td>\n",
       "      <td>Own-child</td>\n",
       "      <td>White</td>\n",
       "      <td>Male</td>\n",
       "      <td>0</td>\n",
       "      <td>0</td>\n",
       "      <td>20</td>\n",
       "      <td>United-States</td>\n",
       "      <td>&lt;50K</td>\n",
       "    </tr>\n",
       "    <tr>\n",
       "      <th>24402</th>\n",
       "      <td>31</td>\n",
       "      <td>Private</td>\n",
       "      <td>219509</td>\n",
       "      <td>HS-grad</td>\n",
       "      <td>9</td>\n",
       "      <td>Married-civ-spouse</td>\n",
       "      <td>Other-service</td>\n",
       "      <td>Husband</td>\n",
       "      <td>White</td>\n",
       "      <td>Male</td>\n",
       "      <td>0</td>\n",
       "      <td>0</td>\n",
       "      <td>40</td>\n",
       "      <td>Mexico</td>\n",
       "      <td>50-100K</td>\n",
       "    </tr>\n",
       "    <tr>\n",
       "      <th>24403</th>\n",
       "      <td>42</td>\n",
       "      <td>Private</td>\n",
       "      <td>195488</td>\n",
       "      <td>10th</td>\n",
       "      <td>6</td>\n",
       "      <td>Divorced</td>\n",
       "      <td>Adm-clerical</td>\n",
       "      <td>Unmarried</td>\n",
       "      <td>White</td>\n",
       "      <td>Female</td>\n",
       "      <td>0</td>\n",
       "      <td>0</td>\n",
       "      <td>40</td>\n",
       "      <td>United-States</td>\n",
       "      <td>&lt;50K</td>\n",
       "    </tr>\n",
       "    <tr>\n",
       "      <th>24404</th>\n",
       "      <td>37</td>\n",
       "      <td>Private</td>\n",
       "      <td>138105</td>\n",
       "      <td>HS-grad</td>\n",
       "      <td>9</td>\n",
       "      <td>Separated</td>\n",
       "      <td>Craft-repair</td>\n",
       "      <td>Unmarried</td>\n",
       "      <td>White</td>\n",
       "      <td>Female</td>\n",
       "      <td>0</td>\n",
       "      <td>0</td>\n",
       "      <td>40</td>\n",
       "      <td>United-States</td>\n",
       "      <td>&lt;50K</td>\n",
       "    </tr>\n",
       "    <tr>\n",
       "      <th>24405</th>\n",
       "      <td>38</td>\n",
       "      <td>Private</td>\n",
       "      <td>91857</td>\n",
       "      <td>HS-grad</td>\n",
       "      <td>9</td>\n",
       "      <td>Divorced</td>\n",
       "      <td>Other-service</td>\n",
       "      <td>Other-relative</td>\n",
       "      <td>White</td>\n",
       "      <td>Male</td>\n",
       "      <td>0</td>\n",
       "      <td>0</td>\n",
       "      <td>40</td>\n",
       "      <td>United-States</td>\n",
       "      <td>&lt;50K</td>\n",
       "    </tr>\n",
       "    <tr>\n",
       "      <th>24406</th>\n",
       "      <td>31</td>\n",
       "      <td>Local-gov</td>\n",
       "      <td>206609</td>\n",
       "      <td>HS-grad</td>\n",
       "      <td>9</td>\n",
       "      <td>Married-civ-spouse</td>\n",
       "      <td>Protective-serv</td>\n",
       "      <td>Husband</td>\n",
       "      <td>White</td>\n",
       "      <td>Male</td>\n",
       "      <td>0</td>\n",
       "      <td>0</td>\n",
       "      <td>40</td>\n",
       "      <td>United-States</td>\n",
       "      <td>&gt;100K</td>\n",
       "    </tr>\n",
       "    <tr>\n",
       "      <th>24407</th>\n",
       "      <td>44</td>\n",
       "      <td>Private</td>\n",
       "      <td>172479</td>\n",
       "      <td>Bachelors</td>\n",
       "      <td>13</td>\n",
       "      <td>Married-civ-spouse</td>\n",
       "      <td>Prof-specialty</td>\n",
       "      <td>Husband</td>\n",
       "      <td>White</td>\n",
       "      <td>Male</td>\n",
       "      <td>7688</td>\n",
       "      <td>0</td>\n",
       "      <td>40</td>\n",
       "      <td>United-States</td>\n",
       "      <td>&gt;100K</td>\n",
       "    </tr>\n",
       "    <tr>\n",
       "      <th>24408</th>\n",
       "      <td>21</td>\n",
       "      <td>Private</td>\n",
       "      <td>228255</td>\n",
       "      <td>Some-college</td>\n",
       "      <td>10</td>\n",
       "      <td>Never-married</td>\n",
       "      <td>Other-service</td>\n",
       "      <td>Own-child</td>\n",
       "      <td>White</td>\n",
       "      <td>Male</td>\n",
       "      <td>0</td>\n",
       "      <td>0</td>\n",
       "      <td>30</td>\n",
       "      <td>United-States</td>\n",
       "      <td>&lt;50K</td>\n",
       "    </tr>\n",
       "    <tr>\n",
       "      <th>24409</th>\n",
       "      <td>53</td>\n",
       "      <td>Self-emp-not-inc</td>\n",
       "      <td>169112</td>\n",
       "      <td>Bachelors</td>\n",
       "      <td>13</td>\n",
       "      <td>Married-civ-spouse</td>\n",
       "      <td>Exec-managerial</td>\n",
       "      <td>Husband</td>\n",
       "      <td>White</td>\n",
       "      <td>Male</td>\n",
       "      <td>0</td>\n",
       "      <td>0</td>\n",
       "      <td>40</td>\n",
       "      <td>Hungary</td>\n",
       "      <td>50-100K</td>\n",
       "    </tr>\n",
       "    <tr>\n",
       "      <th>24410</th>\n",
       "      <td>47</td>\n",
       "      <td>Self-emp-not-inc</td>\n",
       "      <td>180446</td>\n",
       "      <td>Some-college</td>\n",
       "      <td>10</td>\n",
       "      <td>Married-civ-spouse</td>\n",
       "      <td>Tech-support</td>\n",
       "      <td>Husband</td>\n",
       "      <td>Black</td>\n",
       "      <td>Male</td>\n",
       "      <td>0</td>\n",
       "      <td>0</td>\n",
       "      <td>40</td>\n",
       "      <td>United-States</td>\n",
       "      <td>50-100K</td>\n",
       "    </tr>\n",
       "    <tr>\n",
       "      <th>24411</th>\n",
       "      <td>29</td>\n",
       "      <td>Private</td>\n",
       "      <td>95465</td>\n",
       "      <td>HS-grad</td>\n",
       "      <td>9</td>\n",
       "      <td>Never-married</td>\n",
       "      <td>Tech-support</td>\n",
       "      <td>Not-in-family</td>\n",
       "      <td>White</td>\n",
       "      <td>Male</td>\n",
       "      <td>0</td>\n",
       "      <td>0</td>\n",
       "      <td>42</td>\n",
       "      <td>United-States</td>\n",
       "      <td>&lt;50K</td>\n",
       "    </tr>\n",
       "    <tr>\n",
       "      <th>24412</th>\n",
       "      <td>44</td>\n",
       "      <td>State-gov</td>\n",
       "      <td>180609</td>\n",
       "      <td>HS-grad</td>\n",
       "      <td>9</td>\n",
       "      <td>Married-civ-spouse</td>\n",
       "      <td>Protective-serv</td>\n",
       "      <td>Husband</td>\n",
       "      <td>White</td>\n",
       "      <td>Male</td>\n",
       "      <td>0</td>\n",
       "      <td>0</td>\n",
       "      <td>40</td>\n",
       "      <td>United-States</td>\n",
       "      <td>&lt;50K</td>\n",
       "    </tr>\n",
       "    <tr>\n",
       "      <th>24413</th>\n",
       "      <td>27</td>\n",
       "      <td>Private</td>\n",
       "      <td>329426</td>\n",
       "      <td>Bachelors</td>\n",
       "      <td>13</td>\n",
       "      <td>Never-married</td>\n",
       "      <td>Exec-managerial</td>\n",
       "      <td>Not-in-family</td>\n",
       "      <td>White</td>\n",
       "      <td>Male</td>\n",
       "      <td>0</td>\n",
       "      <td>0</td>\n",
       "      <td>45</td>\n",
       "      <td>United-States</td>\n",
       "      <td>&lt;50K</td>\n",
       "    </tr>\n",
       "    <tr>\n",
       "      <th>24414</th>\n",
       "      <td>67</td>\n",
       "      <td>Local-gov</td>\n",
       "      <td>190661</td>\n",
       "      <td>Doctorate</td>\n",
       "      <td>16</td>\n",
       "      <td>Never-married</td>\n",
       "      <td>Prof-specialty</td>\n",
       "      <td>Not-in-family</td>\n",
       "      <td>White</td>\n",
       "      <td>Female</td>\n",
       "      <td>7896</td>\n",
       "      <td>0</td>\n",
       "      <td>50</td>\n",
       "      <td>United-States</td>\n",
       "      <td>&gt;100K</td>\n",
       "    </tr>\n",
       "    <tr>\n",
       "      <th>24415</th>\n",
       "      <td>34</td>\n",
       "      <td>Private</td>\n",
       "      <td>113751</td>\n",
       "      <td>11th</td>\n",
       "      <td>7</td>\n",
       "      <td>Divorced</td>\n",
       "      <td>Sales</td>\n",
       "      <td>Own-child</td>\n",
       "      <td>Black</td>\n",
       "      <td>Female</td>\n",
       "      <td>0</td>\n",
       "      <td>0</td>\n",
       "      <td>37</td>\n",
       "      <td>United-States</td>\n",
       "      <td>&lt;50K</td>\n",
       "    </tr>\n",
       "    <tr>\n",
       "      <th>24416</th>\n",
       "      <td>25</td>\n",
       "      <td>Private</td>\n",
       "      <td>176756</td>\n",
       "      <td>Bachelors</td>\n",
       "      <td>13</td>\n",
       "      <td>Never-married</td>\n",
       "      <td>Craft-repair</td>\n",
       "      <td>Own-child</td>\n",
       "      <td>White</td>\n",
       "      <td>Male</td>\n",
       "      <td>0</td>\n",
       "      <td>0</td>\n",
       "      <td>40</td>\n",
       "      <td>United-States</td>\n",
       "      <td>&lt;50K</td>\n",
       "    </tr>\n",
       "    <tr>\n",
       "      <th>24417</th>\n",
       "      <td>51</td>\n",
       "      <td>Private</td>\n",
       "      <td>172493</td>\n",
       "      <td>Some-college</td>\n",
       "      <td>10</td>\n",
       "      <td>Never-married</td>\n",
       "      <td>Exec-managerial</td>\n",
       "      <td>Not-in-family</td>\n",
       "      <td>White</td>\n",
       "      <td>Female</td>\n",
       "      <td>0</td>\n",
       "      <td>0</td>\n",
       "      <td>12</td>\n",
       "      <td>United-States</td>\n",
       "      <td>&lt;50K</td>\n",
       "    </tr>\n",
       "    <tr>\n",
       "      <th>24418</th>\n",
       "      <td>27</td>\n",
       "      <td>NaN</td>\n",
       "      <td>294642</td>\n",
       "      <td>HS-grad</td>\n",
       "      <td>9</td>\n",
       "      <td>Separated</td>\n",
       "      <td>NaN</td>\n",
       "      <td>Unmarried</td>\n",
       "      <td>Black</td>\n",
       "      <td>Female</td>\n",
       "      <td>0</td>\n",
       "      <td>0</td>\n",
       "      <td>40</td>\n",
       "      <td>United-States</td>\n",
       "      <td>&lt;50K</td>\n",
       "    </tr>\n",
       "    <tr>\n",
       "      <th>24419</th>\n",
       "      <td>56</td>\n",
       "      <td>Private</td>\n",
       "      <td>124771</td>\n",
       "      <td>HS-grad</td>\n",
       "      <td>9</td>\n",
       "      <td>Married-civ-spouse</td>\n",
       "      <td>Machine-op-inspct</td>\n",
       "      <td>Husband</td>\n",
       "      <td>White</td>\n",
       "      <td>Male</td>\n",
       "      <td>0</td>\n",
       "      <td>0</td>\n",
       "      <td>40</td>\n",
       "      <td>United-States</td>\n",
       "      <td>&lt;50K</td>\n",
       "    </tr>\n",
       "    <tr>\n",
       "      <th>24420</th>\n",
       "      <td>38</td>\n",
       "      <td>Self-emp-inc</td>\n",
       "      <td>139364</td>\n",
       "      <td>Bachelors</td>\n",
       "      <td>13</td>\n",
       "      <td>Married-civ-spouse</td>\n",
       "      <td>Craft-repair</td>\n",
       "      <td>Husband</td>\n",
       "      <td>White</td>\n",
       "      <td>Male</td>\n",
       "      <td>15024</td>\n",
       "      <td>0</td>\n",
       "      <td>35</td>\n",
       "      <td>United-States</td>\n",
       "      <td>50-100K</td>\n",
       "    </tr>\n",
       "  </tbody>\n",
       "</table>\n",
       "<p>24421 rows × 15 columns</p>\n",
       "</div>"
      ],
      "text/plain": [
       "       Age         WorkClass  FinalWeight     Education  EducationLvl  \\\n",
       "0       42         State-gov       179151  Some-college            10   \n",
       "1       28           Private        68021  Some-college            10   \n",
       "2       24           Private       233499  Some-college            10   \n",
       "3       32  Self-emp-not-inc       168782           9th             5   \n",
       "4       55  Self-emp-not-inc       105582       Masters            14   \n",
       "5       35           Private       261241       HS-grad             9   \n",
       "6       51           Private       200576     Bachelors            13   \n",
       "7       43      Self-emp-inc       175715       HS-grad             9   \n",
       "8       29         State-gov       188986     Assoc-voc            11   \n",
       "9       65               NaN       137354  Some-college            10   \n",
       "10      35           Private       241998       HS-grad             9   \n",
       "11      20           Private       146538       HS-grad             9   \n",
       "12      45       Federal-gov       162410  Some-college            10   \n",
       "13      32           Private       394708       HS-grad             9   \n",
       "14      52           Private       245127           9th             5   \n",
       "15      28           Private       566066  Some-college            10   \n",
       "16      20           Private       249543  Some-college            10   \n",
       "17      43         State-gov        30824  Some-college            10   \n",
       "18      25           Private       197871     Bachelors            13   \n",
       "19      45           Private       175625       HS-grad             9   \n",
       "20      40           Private       271393    Assoc-acdm            12   \n",
       "21      42  Self-emp-not-inc       320744       HS-grad             9   \n",
       "22      30           Private       186145     Bachelors            13   \n",
       "23      44           Private       191256       HS-grad             9   \n",
       "24      39           Private       150057  Some-college            10   \n",
       "25      19           Private       162954       HS-grad             9   \n",
       "26      28           Private       167789       HS-grad             9   \n",
       "27      41           Private       287037  Some-college            10   \n",
       "28      33           Private       175856     Bachelors            13   \n",
       "29      18               NaN       118847       HS-grad             9   \n",
       "...    ...               ...          ...           ...           ...   \n",
       "24391   58           Private       225603           9th             5   \n",
       "24392   52           Private       114971  Some-college            10   \n",
       "24393   31           Private        31510    Assoc-acdm            12   \n",
       "24394   24           Private       180954  Some-college            10   \n",
       "24395   34  Self-emp-not-inc        48935  Some-college            10   \n",
       "24396   41           Private       384508     Bachelors            13   \n",
       "24397   20           Private       167868       HS-grad             9   \n",
       "24398   47           Private       155107       HS-grad             9   \n",
       "24399   20           Private       173724  Some-college            10   \n",
       "24400   24       Federal-gov       130534     Bachelors            13   \n",
       "24401   47           Private        88564       5th-6th             3   \n",
       "24402   31           Private       219509       HS-grad             9   \n",
       "24403   42           Private       195488          10th             6   \n",
       "24404   37           Private       138105       HS-grad             9   \n",
       "24405   38           Private        91857       HS-grad             9   \n",
       "24406   31         Local-gov       206609       HS-grad             9   \n",
       "24407   44           Private       172479     Bachelors            13   \n",
       "24408   21           Private       228255  Some-college            10   \n",
       "24409   53  Self-emp-not-inc       169112     Bachelors            13   \n",
       "24410   47  Self-emp-not-inc       180446  Some-college            10   \n",
       "24411   29           Private        95465       HS-grad             9   \n",
       "24412   44         State-gov       180609       HS-grad             9   \n",
       "24413   27           Private       329426     Bachelors            13   \n",
       "24414   67         Local-gov       190661     Doctorate            16   \n",
       "24415   34           Private       113751          11th             7   \n",
       "24416   25           Private       176756     Bachelors            13   \n",
       "24417   51           Private       172493  Some-college            10   \n",
       "24418   27               NaN       294642       HS-grad             9   \n",
       "24419   56           Private       124771       HS-grad             9   \n",
       "24420   38      Self-emp-inc       139364     Bachelors            13   \n",
       "\n",
       "            MaritalStatus         Occupation    Relationship  \\\n",
       "0      Married-civ-spouse    Farming-fishing         Husband   \n",
       "1           Never-married      Other-service   Not-in-family   \n",
       "2      Married-civ-spouse   Transport-moving         Husband   \n",
       "3      Married-civ-spouse       Craft-repair         Husband   \n",
       "4      Married-civ-spouse              Sales         Husband   \n",
       "5                Divorced   Transport-moving   Not-in-family   \n",
       "6                Divorced       Adm-clerical   Not-in-family   \n",
       "7           Never-married    Exec-managerial   Not-in-family   \n",
       "8           Never-married       Tech-support   Not-in-family   \n",
       "9      Married-civ-spouse                NaN         Husband   \n",
       "10          Never-married              Sales   Not-in-family   \n",
       "11     Married-civ-spouse  Machine-op-inspct         Husband   \n",
       "12                Widowed       Tech-support   Not-in-family   \n",
       "13          Never-married      Other-service       Unmarried   \n",
       "14     Married-civ-spouse  Handlers-cleaners         Husband   \n",
       "15          Never-married       Adm-clerical   Not-in-family   \n",
       "16          Never-married    Protective-serv       Own-child   \n",
       "17               Divorced       Adm-clerical   Not-in-family   \n",
       "18          Never-married    Exec-managerial   Not-in-family   \n",
       "19              Separated       Adm-clerical       Unmarried   \n",
       "20               Divorced    Exec-managerial   Not-in-family   \n",
       "21     Married-civ-spouse              Sales         Husband   \n",
       "22               Divorced              Sales   Not-in-family   \n",
       "23     Married-civ-spouse   Transport-moving         Husband   \n",
       "24     Married-civ-spouse       Craft-repair         Husband   \n",
       "25          Never-married              Sales       Own-child   \n",
       "26          Never-married              Sales   Not-in-family   \n",
       "27          Never-married    Farming-fishing   Not-in-family   \n",
       "28     Married-civ-spouse    Exec-managerial         Husband   \n",
       "29          Never-married                NaN       Own-child   \n",
       "...                   ...                ...             ...   \n",
       "24391            Divorced    Farming-fishing   Not-in-family   \n",
       "24392  Married-civ-spouse       Craft-repair         Husband   \n",
       "24393  Married-civ-spouse       Craft-repair         Husband   \n",
       "24394       Never-married      Other-service   Not-in-family   \n",
       "24395  Married-civ-spouse    Farming-fishing            Wife   \n",
       "24396  Married-civ-spouse     Prof-specialty         Husband   \n",
       "24397       Never-married      Other-service   Not-in-family   \n",
       "24398  Married-civ-spouse       Tech-support         Husband   \n",
       "24399       Never-married  Handlers-cleaners       Own-child   \n",
       "24400       Never-married    Exec-managerial   Not-in-family   \n",
       "24401       Never-married  Machine-op-inspct       Own-child   \n",
       "24402  Married-civ-spouse      Other-service         Husband   \n",
       "24403            Divorced       Adm-clerical       Unmarried   \n",
       "24404           Separated       Craft-repair       Unmarried   \n",
       "24405            Divorced      Other-service  Other-relative   \n",
       "24406  Married-civ-spouse    Protective-serv         Husband   \n",
       "24407  Married-civ-spouse     Prof-specialty         Husband   \n",
       "24408       Never-married      Other-service       Own-child   \n",
       "24409  Married-civ-spouse    Exec-managerial         Husband   \n",
       "24410  Married-civ-spouse       Tech-support         Husband   \n",
       "24411       Never-married       Tech-support   Not-in-family   \n",
       "24412  Married-civ-spouse    Protective-serv         Husband   \n",
       "24413       Never-married    Exec-managerial   Not-in-family   \n",
       "24414       Never-married     Prof-specialty   Not-in-family   \n",
       "24415            Divorced              Sales       Own-child   \n",
       "24416       Never-married       Craft-repair       Own-child   \n",
       "24417       Never-married    Exec-managerial   Not-in-family   \n",
       "24418           Separated                NaN       Unmarried   \n",
       "24419  Married-civ-spouse  Machine-op-inspct         Husband   \n",
       "24420  Married-civ-spouse       Craft-repair         Husband   \n",
       "\n",
       "                     Race     Sex  CapitalGain  CapitalLoss  HoursPerWeek  \\\n",
       "0                   White    Male            0            0            40   \n",
       "1                   White  Female            0            0            30   \n",
       "2                   White    Male            0            0            40   \n",
       "3                   White    Male            0            0            32   \n",
       "4                   White    Male         2228            0            50   \n",
       "5                   White    Male            0         1741            60   \n",
       "6                   White  Female            0            0            40   \n",
       "7                   Black    Male            0            0            55   \n",
       "8                   White  Female            0         1590            64   \n",
       "9      Asian-Pac-Islander    Male            0            0            20   \n",
       "10                  White    Male         4787            0            40   \n",
       "11                  White    Male            0            0            40   \n",
       "12                  White  Female            0            0            45   \n",
       "13                  Black    Male            0            0            40   \n",
       "14                  White    Male            0            0            40   \n",
       "15                  Black  Female            0            0            45   \n",
       "16                  White  Female            0            0            16   \n",
       "17                  White  Female            0            0            40   \n",
       "18                  White    Male            0            0            50   \n",
       "19                  White  Female            0            0            38   \n",
       "20                  White  Female            0            0            40   \n",
       "21                  White    Male         3908            0            45   \n",
       "22                  White  Female            0            0            40   \n",
       "23                  White    Male            0            0            65   \n",
       "24                  White    Male            0            0            55   \n",
       "25                  White  Female            0            0            30   \n",
       "26                  White  Female            0            0            60   \n",
       "27                  White    Male            0            0            40   \n",
       "28                  White    Male            0            0            50   \n",
       "29                  White  Female            0            0            24   \n",
       "...                   ...     ...          ...          ...           ...   \n",
       "24391               Black    Male            0            0            40   \n",
       "24392               White    Male            0            0            40   \n",
       "24393               White    Male            0            0            40   \n",
       "24394               White  Female            0            0            40   \n",
       "24395               White  Female            0            0            30   \n",
       "24396               White    Male            0            0            40   \n",
       "24397               White  Female            0            0            35   \n",
       "24398               White    Male            0            0            40   \n",
       "24399               White    Male            0            0            20   \n",
       "24400               White    Male            0            0            40   \n",
       "24401               White    Male            0            0            20   \n",
       "24402               White    Male            0            0            40   \n",
       "24403               White  Female            0            0            40   \n",
       "24404               White  Female            0            0            40   \n",
       "24405               White    Male            0            0            40   \n",
       "24406               White    Male            0            0            40   \n",
       "24407               White    Male         7688            0            40   \n",
       "24408               White    Male            0            0            30   \n",
       "24409               White    Male            0            0            40   \n",
       "24410               Black    Male            0            0            40   \n",
       "24411               White    Male            0            0            42   \n",
       "24412               White    Male            0            0            40   \n",
       "24413               White    Male            0            0            45   \n",
       "24414               White  Female         7896            0            50   \n",
       "24415               Black  Female            0            0            37   \n",
       "24416               White    Male            0            0            40   \n",
       "24417               White  Female            0            0            12   \n",
       "24418               Black  Female            0            0            40   \n",
       "24419               White    Male            0            0            40   \n",
       "24420               White    Male        15024            0            35   \n",
       "\n",
       "                    NativeCountry IncomeBracket  \n",
       "0                   United-States          <50K  \n",
       "1                   United-States          <50K  \n",
       "2                   United-States       50-100K  \n",
       "3                   United-States          <50K  \n",
       "4                   United-States          <50K  \n",
       "5                   United-States          <50K  \n",
       "6                   United-States          <50K  \n",
       "7                   United-States          <50K  \n",
       "8                   United-States          <50K  \n",
       "9                   United-States          <50K  \n",
       "10                  United-States         >100K  \n",
       "11                  United-States          <50K  \n",
       "12                  United-States       50-100K  \n",
       "13                  United-States          <50K  \n",
       "14     Outlying-US(Guam-USVI-etc)          <50K  \n",
       "15                  United-States          <50K  \n",
       "16                  United-States          <50K  \n",
       "17                  United-States          <50K  \n",
       "18                  United-States          <50K  \n",
       "19                  United-States          <50K  \n",
       "20                  United-States          <50K  \n",
       "21                  United-States          <50K  \n",
       "22                  United-States          <50K  \n",
       "23                  United-States       50-100K  \n",
       "24                  United-States       50-100K  \n",
       "25                  United-States          <50K  \n",
       "26                  United-States          <50K  \n",
       "27                  United-States          <50K  \n",
       "28                  United-States         >100K  \n",
       "29                  United-States          <50K  \n",
       "...                           ...           ...  \n",
       "24391               United-States          <50K  \n",
       "24392               United-States       50-100K  \n",
       "24393               United-States          <50K  \n",
       "24394               United-States          <50K  \n",
       "24395               United-States          <50K  \n",
       "24396               United-States       50-100K  \n",
       "24397               United-States          <50K  \n",
       "24398               United-States          <50K  \n",
       "24399               United-States          <50K  \n",
       "24400               United-States          <50K  \n",
       "24401               United-States          <50K  \n",
       "24402                      Mexico       50-100K  \n",
       "24403               United-States          <50K  \n",
       "24404               United-States          <50K  \n",
       "24405               United-States          <50K  \n",
       "24406               United-States         >100K  \n",
       "24407               United-States         >100K  \n",
       "24408               United-States          <50K  \n",
       "24409                     Hungary       50-100K  \n",
       "24410               United-States       50-100K  \n",
       "24411               United-States          <50K  \n",
       "24412               United-States          <50K  \n",
       "24413               United-States          <50K  \n",
       "24414               United-States         >100K  \n",
       "24415               United-States          <50K  \n",
       "24416               United-States          <50K  \n",
       "24417               United-States          <50K  \n",
       "24418               United-States          <50K  \n",
       "24419               United-States          <50K  \n",
       "24420               United-States       50-100K  \n",
       "\n",
       "[24421 rows x 15 columns]"
      ]
     },
     "execution_count": 11,
     "metadata": {},
     "output_type": "execute_result"
    },
    {
     "name": "stdout",
     "output_type": "stream",
     "text": [
      "time: 160 ms\n"
     ]
    }
   ],
   "source": [
    "#View the Data\n",
    "training"
   ]
  },
  {
   "cell_type": "code",
   "execution_count": 12,
   "metadata": {},
   "outputs": [
    {
     "name": "stdout",
     "output_type": "stream",
     "text": [
      "<class 'pandas.core.frame.DataFrame'>\n",
      "RangeIndex: 24421 entries, 0 to 24420\n",
      "Data columns (total 15 columns):\n",
      "Age              24421 non-null int64\n",
      "WorkClass        23037 non-null object\n",
      "FinalWeight      24421 non-null int64\n",
      "Education        24421 non-null object\n",
      "EducationLvl     24421 non-null int64\n",
      "MaritalStatus    24421 non-null object\n",
      "Occupation       23031 non-null object\n",
      "Relationship     24421 non-null object\n",
      "Race             24421 non-null object\n",
      "Sex              24421 non-null object\n",
      "CapitalGain      24421 non-null int64\n",
      "CapitalLoss      24421 non-null int64\n",
      "HoursPerWeek     24421 non-null int64\n",
      "NativeCountry    24026 non-null object\n",
      "IncomeBracket    24421 non-null category\n",
      "dtypes: category(1), int64(6), object(8)\n",
      "memory usage: 2.6+ MB\n",
      "None\n",
      "time: 56 ms\n"
     ]
    }
   ],
   "source": [
    "#Convert Income Bracket to Category \n",
    "training['IncomeBracket'] = training['IncomeBracket'].astype('category')\n",
    "testing['IncomeBracket'] = testing['IncomeBracket'].astype('category')\n",
    "\n",
    "#View The Data Info\n",
    "print(training.info())"
   ]
  },
  {
   "cell_type": "markdown",
   "metadata": {},
   "source": [
    "## 1. Data Cleaning"
   ]
  },
  {
   "cell_type": "markdown",
   "metadata": {},
   "source": [
    "#### Dealing with Missing Data"
   ]
  },
  {
   "cell_type": "code",
   "execution_count": 13,
   "metadata": {},
   "outputs": [
    {
     "name": "stdout",
     "output_type": "stream",
     "text": [
      "\n",
      "Number of Missing Values Per Category\n",
      "Age                 0\n",
      "WorkClass        1384\n",
      "FinalWeight         0\n",
      "Education           0\n",
      "EducationLvl        0\n",
      "MaritalStatus       0\n",
      "Occupation       1390\n",
      "Relationship        0\n",
      "Race                0\n",
      "Sex                 0\n",
      "CapitalGain         0\n",
      "CapitalLoss         0\n",
      "HoursPerWeek        0\n",
      "NativeCountry     395\n",
      "IncomeBracket       0\n",
      "dtype: int64\n",
      "\n",
      "NaN Ratio for Each Category with Missing Values\n",
      "Working Class NaN Ratio: 6.00772670053 %\n",
      "Occupation NaN Ratio: 6.03534366723 %\n",
      "NativeCountry NaN Ratio: 1.6440522767 %\n",
      "Overall NaN Ratio: 7.235575938741247 %\n",
      "time: 148 ms\n"
     ]
    }
   ],
   "source": [
    "#Assess Missing Data\n",
    "print('\\nNumber of Missing Values Per Category')\n",
    "print(training.isnull().sum())\n",
    "\n",
    "#Check Impact of Removing Missing Data per Category\n",
    "print('\\nNaN Ratio for Each Category with Missing Values')\n",
    "print('Working Class NaN Ratio:', training['WorkClass'].isnull().sum()/training['WorkClass'].count()*100, '%')\n",
    "print('Occupation NaN Ratio:', training['Occupation'].isnull().sum()/training['Occupation'].count()*100, '%')\n",
    "print('NativeCountry NaN Ratio:', training['NativeCountry'].isnull().sum()/training['NativeCountry'].count()*100, '%')\n",
    "\n",
    "#Check Impact of Removing Missing Data Overall\n",
    "total_nan = training['WorkClass'].isnull().sum()+training['WorkClass'].isnull().sum()\n",
    "print('Overall NaN Ratio:', (training.shape[0]-training.dropna().shape[0])/training.shape[0]*100, '%')"
   ]
  },
  {
   "cell_type": "markdown",
   "metadata": {},
   "source": [
    "<u>Dicussion</u>\n",
    "\n",
    "The number of missing values for each category with missing values is less then 6% across the three categories. Removing these rows with missing values will have a neglible affect on the training set. It appears that the WorkClass and Occupation have almost identical number of missing values. This could mean the data could belong to the same rows. Removing all the NaN values, the percentage of NaN to the total dataframe rows confirms this showing approximately 7.2% of the data has a missing value. This is close to the 6% of each of the Occupation and WorkClass missing values. \n",
    "\n",
    "Since only 7.2%  of the data is missing values, removing these rows will have a neglible affect. This is done below.\n",
    "\n",
    "<b>Insight:</b> <br>\n",
    "An almost identical number of missing data occurred across the Occupation and WorkClass categories. These two categories are related, for people who did not enter an occupation did not have a working class. This could just indicate that a person is not currently employed but still have income through other means. \n",
    "\n",
    "By excluding the entries with missing data could potentially produce a bias in the model because it does not appropriately account for people who may be unemployed but still have an income. "
   ]
  },
  {
   "cell_type": "code",
   "execution_count": 14,
   "metadata": {},
   "outputs": [
    {
     "name": "stdout",
     "output_type": "stream",
     "text": [
      "Training DataFrame Length 22654\n",
      "Testing DataFrame Length 11307\n",
      "time: 68 ms\n"
     ]
    }
   ],
   "source": [
    "#Remove All Rows with NaN Values\n",
    "training_clean = training.dropna()\n",
    "testing_clean = testing.dropna()\n",
    "print('Training DataFrame Length',len(training_clean))\n",
    "print('Testing DataFrame Length',len(testing_clean))"
   ]
  },
  {
   "cell_type": "markdown",
   "metadata": {},
   "source": [
    "#### Encoding Categorical Data\n",
    "\n",
    "To encode the data, SKLearn has a function called LabelEncoder() which will perform the encoding task automatically. Each object column will be converted to encoded data based on how many categories are in the column, where each category is given an integer value. This encoded data is required for input into classification algorithms. The LabelEncoder() function will determine how many different categories are in each object column and cange the object data to numerical data.\n",
    "\n",
    "Another option to use would be one-hot encoding which instead of putting the dat in a single column, could produce a new dummy variable for each category which would have it's own column. This is considered a better way to improve the machine learning results as it reduces the bias associated with columns with a hihger number of categories. Machine learning algorithms tend to associate a higher number with higher importance. One-Hot encoding produces binarized data so the average of a category is still jsut 1. \n",
    "\n",
    "In this case, we have small number of categories and will ignore the small level of bias and continue with using the LabelEncoder() function. \n",
    "\n",
    "\n",
    "http://pbpython.com/categorical-encoding.html"
   ]
  },
  {
   "cell_type": "code",
   "execution_count": 15,
   "metadata": {},
   "outputs": [
    {
     "name": "stdout",
     "output_type": "stream",
     "text": [
      "time: 4 ms\n"
     ]
    }
   ],
   "source": [
    "#Label Encoder Function\n",
    "def encode_data (df):  \n",
    "    # Cycle Through Each Column to Transform\n",
    "    for column in df.columns:\n",
    "        #Only Encode if Object Type\n",
    "        if df[column].dtypes == object:\n",
    "            df[column]=LabelEncoder().fit_transform(df[column])       \n",
    "    return df"
   ]
  },
  {
   "cell_type": "code",
   "execution_count": 16,
   "metadata": {},
   "outputs": [
    {
     "name": "stdout",
     "output_type": "stream",
     "text": [
      "time: 163 ms\n"
     ]
    }
   ],
   "source": [
    "#Encode Training & Testing Sets\n",
    "temp = training_clean.copy()\n",
    "training_encoded = encode_data(temp)\n",
    "temp = testing_clean.copy()\n",
    "testing_encoded = encode_data(temp)"
   ]
  },
  {
   "cell_type": "markdown",
   "metadata": {},
   "source": [
    "## 2. Exploratory Analysis\n"
   ]
  },
  {
   "cell_type": "markdown",
   "metadata": {},
   "source": [
    "##### A. Income Bracket Distribution\n",
    "\n",
    "An obvious start is to plot the breakdown of the income brackets. As expected, the lowest income bracket made up most of the data set. "
   ]
  },
  {
   "cell_type": "code",
   "execution_count": 17,
   "metadata": {},
   "outputs": [
    {
     "data": {
      "text/plain": [
       "array([<matplotlib.axes._subplots.AxesSubplot object at 0x0000026555CCA3C8>], dtype=object)"
      ]
     },
     "execution_count": 17,
     "metadata": {},
     "output_type": "execute_result"
    },
    {
     "data": {
      "image/png": "[encoded data removed]",
      "text/plain": [
       "<matplotlib.figure.Figure at 0x26551d96550>"
      ]
     },
     "metadata": {},
     "output_type": "display_data"
    },
    {
     "name": "stdout",
     "output_type": "stream",
     "text": [
      "time: 426 ms\n"
     ]
    }
   ],
   "source": [
    "#Count Number of People in Each Income Bracket\n",
    "income_counts = training_encoded['IncomeBracket'].value_counts()\n",
    "#Plot Pie Chart of People in Each Category\n",
    "income_counts.plot(kind='pie', subplots=True, figsize=(8, 8), autopct='%.2f%%')"
   ]
  },
  {
   "cell_type": "markdown",
   "metadata": {
    "collapsed": true
   },
   "source": [
    "<u>Dicsussion</u>\n"
   ]
  },
  {
   "cell_type": "markdown",
   "metadata": {},
   "source": [
    "##### B. Income Distribution By Occupation\n",
    "\n",
    "From this plot we can see that spread of income across each occupation. As expected, every occupation has a signifciant number of lower bracket individuals and very few high income individuals. It is clear that the high income brackets lie within occupations related to managerial tasks and professional speciality services as would be expected as well. "
   ]
  },
  {
   "cell_type": "code",
   "execution_count": 18,
   "metadata": {},
   "outputs": [
    {
     "data": {
      "image/png": "[encoded data removed]",
      "text/plain": [
       "<matplotlib.figure.Figure at 0x26556697da0>"
      ]
     },
     "metadata": {},
     "output_type": "display_data"
    },
    {
     "name": "stdout",
     "output_type": "stream",
     "text": [
      "time: 469 ms\n"
     ]
    }
   ],
   "source": [
    "#Create Dataframe of Occupation and Income Categoris\n",
    "inc_occ_df = training_clean[['Occupation','IncomeBracket']].sort_values(by =['Occupation'])\n",
    "\n",
    "#Create Seaborn Nested/Multiple Count Plot\n",
    "sns.set(style=\"whitegrid\", font_scale=1.3)\n",
    "plt.figure(figsize=(14,8))\n",
    "cplot = sns.countplot(x=\"Occupation\", hue=\"IncomeBracket\", data=inc_occ_df)\n",
    "cplot.set_title('Income Distribution by Occupation')\n",
    "\n",
    "#Rotate X-Tick Labels\n",
    "for item in cplot.get_xticklabels():\n",
    "    item.set_rotation(50)   "
   ]
  },
  {
   "cell_type": "markdown",
   "metadata": {},
   "source": [
    "#### C. Income Distribution By Education\n",
    "\n",
    "This plot indicates that higher level brackets only occur with education levels above high school. Although an obvious trend, it does indicate that education level will be a significant contributor to classifying income brackets."
   ]
  },
  {
   "cell_type": "code",
   "execution_count": 19,
   "metadata": {},
   "outputs": [
    {
     "data": {
      "image/png": "[encoded data removed]",
      "text/plain": [
       "<matplotlib.figure.Figure at 0x265566e66d8>"
      ]
     },
     "metadata": {},
     "output_type": "display_data"
    },
    {
     "name": "stdout",
     "output_type": "stream",
     "text": [
      "time: 520 ms\n"
     ]
    }
   ],
   "source": [
    "#Create Dataframe of Education and Income Categoris\n",
    "inc_occ_df = training_clean[['Education','IncomeBracket','EducationLvl']].sort_values(by =['EducationLvl'])\n",
    "\n",
    "#Create Seaborn Nested/Multiple Count Plot\n",
    "sns.set(style=\"whitegrid\", font_scale=1.3)\n",
    "plt.figure(figsize=(14,8))\n",
    "cplot = sns.countplot(x=\"Education\", hue=\"IncomeBracket\", data=inc_occ_df)\n",
    "cplot.set_title('Income Distribution by Education Level')\n",
    "\n",
    "\n",
    "#Rotate X-Tick Labels\n",
    "for item in cplot.get_xticklabels():\n",
    "    item.set_rotation(50) "
   ]
  },
  {
   "cell_type": "markdown",
   "metadata": {},
   "source": [
    "#### Feature Importance Visualisation\n",
    "\n",
    "The following corrlealtion plots and are used to determine the importance of features. It is extended to include further analysis to support the claims of the correlation analysis."
   ]
  },
  {
   "cell_type": "code",
   "execution_count": 20,
   "metadata": {},
   "outputs": [
    {
     "data": {
      "text/plain": [
       "<matplotlib.axes._subplots.AxesSubplot at 0x26556a48c18>"
      ]
     },
     "execution_count": 20,
     "metadata": {},
     "output_type": "execute_result"
    },
    {
     "data": {
      "image/png": "[encoded data removed]",
      "text/plain": [
       "<matplotlib.figure.Figure at 0x26555ccae80>"
      ]
     },
     "metadata": {},
     "output_type": "display_data"
    },
    {
     "name": "stdout",
     "output_type": "stream",
     "text": [
      "time: 597 ms\n"
     ]
    }
   ],
   "source": [
    "# Compute the correlation matrix\n",
    "training_encoded['IncomeBracket'] = training_clean['IncomeBracket'].astype('object')\n",
    "training_encoded2 = encode_data(training_encoded)\n",
    "features = training_encoded2[['Age','WorkClass','EducationLvl','MaritalStatus','Occupation','Relationship','Race','Sex','CapitalGain','CapitalLoss','HoursPerWeek','NativeCountry','IncomeBracket']]\n",
    "corr = features.corr()\n",
    "\n",
    "# Generate a mask for the upper triangle\n",
    "mask = np.zeros_like(corr, dtype=np.bool)\n",
    "mask[np.triu_indices_from(mask)] = True\n",
    "\n",
    "# Set up the matplotlib figure\n",
    "f, ax = plt.subplots(figsize=(14, 12))\n",
    "\n",
    "# Generate a custom diverging colormap\n",
    "cmap = sns.diverging_palette(220, 10, as_cmap=True)\n",
    "\n",
    "# Draw the heatmap with the mask and correct aspect ratio\n",
    "sns.heatmap(corr, mask=mask, cmap=cmap, vmax=.3, center=0,\n",
    "            square=True, linewidths=.5, cbar_kws={\"shrink\": .5})"
   ]
  },
  {
   "cell_type": "code",
   "execution_count": 21,
   "metadata": {},
   "outputs": [
    {
     "data": {
      "image/png": "[encoded data removed]",
      "text/plain": [
       "<matplotlib.figure.Figure at 0x2655634add8>"
      ]
     },
     "metadata": {},
     "output_type": "display_data"
    },
    {
     "name": "stdout",
     "output_type": "stream",
     "text": [
      "time: 288 ms\n"
     ]
    }
   ],
   "source": [
    "#Plot Absolute Correlation Values for Each Feature\n",
    "abs_corr = abs(corr.iloc[0:12,12:13]).sort_values(by=['IncomeBracket'], ascending=False)\n",
    "\n",
    "#Create Bar Plot of Feature Correlation Values\n",
    "sns.set(style=\"whitegrid\", font_scale=1.3)\n",
    "plt.figure(figsize=(14,8))\n",
    "bplot = sns.barplot(x=abs_corr.index, y = 'IncomeBracket',  data=abs_corr)\n",
    "bplot.set(xlabel='Features', ylabel='Absolute Correlation')\n",
    "bplot.set_title('Correlation per Feature to Income Bracket (Absolute Value)')\n",
    "\n",
    "#Rotate X-Tick Labels\n",
    "for item in bplot.get_xticklabels():\n",
    "    item.set_rotation(50) "
   ]
  },
  {
   "cell_type": "markdown",
   "metadata": {},
   "source": [
    "<u>Discussion</u>\n",
    "\n",
    "The correlation plot indicates that <b>Relationships</b> and <b>Marital Status</b> have the highest positive correlations with the Income Bracket. This is counterintutive as I would expect that Age, Education Level, Occupation and Working Class to have a stronger positive correlation then being indicated by this correlation plot, but it is difficult to read from the matrix. To better see the correlation strengths of each feature, the absolute value of each correlation to the Income Brakcet is plotted in a bar chart above. \n",
    "\n",
    "From the bar chart, it is clearly visible that education has the greatest impact, followed by relationship, hours per week, sex, age, capital gain and marital status. \n",
    "\n",
    "Extension:<br>\n",
    "Exploration of feature selection and the Sklearn Tool kit reveals another tool for determining feature importance. This is known as Mutual Information Classification. This uses k-nearest neighbours distances. The MIC will output values for each input feature which indicate the degree at which the target is dependent on that feature. The higher the MIC number, the more important the feature. \n",
    "\n",
    "https://en.wikipedia.org/wiki/Feature_selection\n",
    "\n",
    "http://scikit-learn.org/stable/modules/generated/sklearn.feature_selection.mutual_info_classif.html\n",
    "\n",
    "#### Implement Mutual Information Classifier & Visualise"
   ]
  },
  {
   "cell_type": "code",
   "execution_count": 22,
   "metadata": {},
   "outputs": [
    {
     "name": "stdout",
     "output_type": "stream",
     "text": [
      "time: 3.85 s\n"
     ]
    }
   ],
   "source": [
    "#Create Feature Set\n",
    "feature_set = features.iloc[:,:-1]\n",
    "\n",
    "#Create Target \n",
    "target_set = features.iloc[:,12]\n",
    "\n",
    "#Preapre Dataframe\n",
    "MIC_Output = pd.DataFrame(columns = ['Feature','MIC Value'])\n",
    "MIC_Output['Feature'] = feature_set.columns\n",
    "\n",
    "#Run Mutual Information Classifier\n",
    "MIC_Output['MIC Value'] = mutual_info_classif(feature_set, target_set, n_neighbors=3, copy=True, random_state=None)"
   ]
  },
  {
   "cell_type": "code",
   "execution_count": 23,
   "metadata": {},
   "outputs": [
    {
     "data": {
      "image/png": "[encoded data removed]",
      "text/plain": [
       "<matplotlib.figure.Figure at 0x265563524a8>"
      ]
     },
     "metadata": {},
     "output_type": "display_data"
    },
    {
     "name": "stdout",
     "output_type": "stream",
     "text": [
      "time: 384 ms\n"
     ]
    }
   ],
   "source": [
    "#Visulaize the MIC Values\n",
    "MIC_Sorted = MIC_Output.sort_values(by=['MIC Value'],  ascending=False)\n",
    "\n",
    "#Plot Bar Chart\n",
    "sns.set(style=\"whitegrid\", font_scale=1.3)\n",
    "plt.figure(figsize=(14,8))\n",
    "plot = sns.barplot(MIC_Sorted['Feature'], MIC_Sorted['MIC Value'])\n",
    "plot.set_title('MIC Value of Features')\n",
    "\n",
    "#Rotate X-Tick Labels\n",
    "for item in plot.get_xticklabels():\n",
    "    item.set_rotation(50)   "
   ]
  },
  {
   "cell_type": "markdown",
   "metadata": {},
   "source": [
    "<u>Extended Dicsussion</u>\n",
    "\n",
    "The MIC value method confirms that the <b>Relationships</b> and <b>Marital Status</b> are he strongest two features to the Income Bracket which was seen in the correlation matrix. However, the impact of features is different then the absolute correlation value plot above. This is due to the difference in handling relationships betwen variables. The correlation coefificient can only take into account linear relationships between actual variables where as the mutual information method is the distance between two distributions.  \n",
    "\n",
    "The set of features determined by each method differ,<br>\n",
    "<b>Correlation</b>: Education Level, Relationship, Hours per Week, Sex, Age, Capital Gain and Marital Status.<br>\n",
    "<b>MIC Method</b>:  Relationship, Marital Status,Capital Gain, Education Level, Age, Occupation.\n",
    "\n",
    "Using the MIC Values method as an extension creates a better understanding of the feature importance and futhermore will contirbute to feature selection. It is important to note that the Mutual Information Classification method is itself a classifier and a little further above just visualisation. \n",
    "\n",
    "<u>Scree Plot</u><br>\n",
    "I use a scree plot below to confirm the number of features that should be used from the original set. The plot indicates 6 features should be utilized in the feature set. This aligns with the MIC method."
   ]
  },
  {
   "cell_type": "code",
   "execution_count": 24,
   "metadata": {},
   "outputs": [
    {
     "data": {
      "text/plain": [
       "Text(0,0.5,'Eigenvalue')"
      ]
     },
     "execution_count": 24,
     "metadata": {},
     "output_type": "execute_result"
    },
    {
     "data": {
      "image/png": "[encoded data removed]",
      "text/plain": [
       "<matplotlib.figure.Figure at 0x26555cca278>"
      ]
     },
     "metadata": {},
     "output_type": "display_data"
    },
    {
     "name": "stdout",
     "output_type": "stream",
     "text": [
      "time: 183 ms\n"
     ]
    }
   ],
   "source": [
    "#Using Scree Plot to Determine Number of Features\n",
    "eig_vals, eig_vecs = np.linalg.eig(corr)\n",
    "\n",
    "# Make a list of (eigenvalue, eigenvector) tuples\n",
    "eig_pairs = [(np.abs(eig_vals[i]), eig_vecs[:,i]) for i in range(len(eig_vals))]\n",
    "\n",
    "# Sort the (eigenvalue, eigenvector) tuples from high to low\n",
    "eig_pairs.sort()\n",
    "eig_pairs.reverse()\n",
    "\n",
    "#Scree Plot\n",
    "eig_vals[::-1].sort()\n",
    "fig = plt.figure(figsize=(8,5))\n",
    "sing_vals = np.arange(13) + 1\n",
    "plt.plot(sing_vals, eig_vals, 'ro-', linewidth=2)\n",
    "plt.title('Scree Plot')\n",
    "plt.xlabel('Principal Component')\n",
    "plt.ylabel('Eigenvalue')"
   ]
  },
  {
   "cell_type": "markdown",
   "metadata": {},
   "source": [
    "## 3. Feature Selection"
   ]
  },
  {
   "cell_type": "markdown",
   "metadata": {},
   "source": [
    "Feature engineering is useful to machine learning by reducing the computational load of the algorithms by reducing the number of features required to include in the set. The important aspect of feature engineering is to reduce the number of features while maintaining the essence of correlation between the feautures and the target and to include only the features which explain the variance in the target set. When data sets become very large and include a large number of variables then feature engineering becomes much more critical in order to have the algorithms compute as efficiently as possible.\n",
    "\n",
    "The two feature importance methods explored above will be used to help determine the features to select for modelling."
   ]
  },
  {
   "cell_type": "markdown",
   "metadata": {},
   "source": [
    "<u>New Features</u><br>\n",
    "\n",
    "I introduce two new features from the existing feature set. This includes a feature which collaborates Sex, Relationship and Marital Status. These three features are correlated together and all within a similar base of understanding in the real world, describing a similar topic.  The second new feature is the Net Capital feature which is the difference between a capital gain and the capital loss. This produces a single column which describes the same scenario as the two columns seperately. \n",
    "\n",
    "a. Sex & Relationship & Marital Status<br>\n",
    "b. Net Capital = Capital Gain - Capital Loss"
   ]
  },
  {
   "cell_type": "code",
   "execution_count": 25,
   "metadata": {},
   "outputs": [
    {
     "name": "stdout",
     "output_type": "stream",
     "text": [
      "time: 40 ms\n"
     ]
    }
   ],
   "source": [
    "#Remove Insignificant Features\n",
    "training_encoded_short = training_encoded.drop(['Race','NativeCountry','WorkClass','IncomeBracket'\n",
    "                                                ,'Sex','Relationship','FinalWeight','MaritalStatus'\n",
    "                                                ,'CapitalGain','CapitalLoss','Education' ], axis=1).copy()\n",
    "testing_encoded_short = testing_encoded.drop(['Race','NativeCountry','WorkClass','IncomeBracket'\n",
    "                                                ,'Sex','Relationship','FinalWeight','MaritalStatus'\n",
    "                                                ,'CapitalGain','CapitalLoss','Education' ], axis=1).copy()\n",
    "\n",
    "#Create New Features\n",
    "training_encoded_short['Sex_Rel_Mar'] = pd.DataFrame(training_encoded[\"Sex\"] + training_encoded['Relationship'] \n",
    "                                                     + training_encoded['MaritalStatus'])\n",
    "training_encoded_short['Net_Capital'] = pd.DataFrame(training_encoded[\"CapitalGain\"] - training_encoded['CapitalLoss'])\n",
    "\n",
    "testing_encoded_short['Sex_Rel_Mar'] = pd.DataFrame(testing_encoded[\"Sex\"] + testing_encoded['Relationship'] \n",
    "                                                     + testing_encoded['MaritalStatus'])\n",
    "testing_encoded_short['Net_Capital'] = pd.DataFrame(testing_encoded[\"CapitalGain\"] - testing_encoded['CapitalLoss'])\n"
   ]
  },
  {
   "cell_type": "code",
   "execution_count": 26,
   "metadata": {},
   "outputs": [
    {
     "data": {
      "image/png": "[encoded data removed]",
      "text/plain": [
       "<matplotlib.figure.Figure at 0x26556d694a8>"
      ]
     },
     "metadata": {},
     "output_type": "display_data"
    },
    {
     "name": "stdout",
     "output_type": "stream",
     "text": [
      "time: 363 ms\n"
     ]
    }
   ],
   "source": [
    "#Verify New Feature Set Correlations\n",
    "training_encoded_short['IncomeBracket'] = training_clean['IncomeBracket'].astype('object')\n",
    "training_encoded_short2 = encode_data(training_encoded_short)\n",
    "corr2 = training_encoded_short2.corr()\n",
    "\n",
    "#Plot Absolute Correlation Values for Each Feature\n",
    "abs_corr2 = abs(corr2.iloc[0:6,6:7]).sort_values(by=['IncomeBracket'], ascending=False)\n",
    "\n",
    "#Create Bar Plot of Feature Correlation Values\n",
    "sns.set(style=\"whitegrid\", font_scale=1.3)\n",
    "plt.figure(figsize=(14,8))\n",
    "bplot = sns.barplot(x=abs_corr2.index, y = 'IncomeBracket',  data=abs_corr2)\n",
    "bplot.set(xlabel='Features', ylabel='Absolute Correlation')\n",
    "bplot.set_title('Correlation of New Feature Set to Income Bracket (Absolute Value)')\n",
    "\n",
    "#Rotate X-Tick Labels\n",
    "for item in bplot.get_xticklabels():\n",
    "    item.set_rotation(50) "
   ]
  },
  {
   "cell_type": "markdown",
   "metadata": {},
   "source": [
    "<u>Discussion</u>\n",
    "\n",
    "The feature set has been reduced to six features by combinng correlated features. The features that did not have a strong impact were also removed from the set. Obseravtion of the new feature set correlations reveal that the new features are still apropriate (they have significant impact). However, the occupation value still lags the other features in impact. I will keep occupation in the mix because intuitively it is reasonable to link occpation to income levels. It is also a significant feature according to the MIC Value Method conducted above. "
   ]
  },
  {
   "cell_type": "markdown",
   "metadata": {},
   "source": [
    "## 4. Model Implementation\n",
    "\n",
    "I will choose the following 4 classification algorithms,<br>\n",
    "<ol>\n",
    "    <li>k-Nearest Neighbour (kNN)</li>\n",
    "    <li>Logistic Regression (LR)</li>\n",
    "    <li>XGBoost (XGB) </li>\n",
    "    <li>Random Forest (RF) </li>\n",
    "</ol>\n",
    "\n",
    "The encoded training data will be split into a feature space and target space (Income Bracket). A stratified 10-Fold will be applied to the data. A stratification fold arranges the data so that it is a good representation of the whole by preserving the percentage of data in each class. It wil perform a typical rotation data partitioning whereby producing ten different sets of samples from the population that will be used for training. This method is generally considered better to use in terms of bias and variance over the standrd k-fold method. Cross validation is used \n",
    "\n",
    "\n",
    "Comparison of the algoritms will be done based on the accuracy of each algorithm."
   ]
  },
  {
   "cell_type": "code",
   "execution_count": 27,
   "metadata": {},
   "outputs": [
    {
     "name": "stdout",
     "output_type": "stream",
     "text": [
      "time: 32 ms\n"
     ]
    }
   ],
   "source": [
    "#Set up Feature & Target Sets from Training Data\n",
    "feature_space = training_encoded_short2.iloc[:,:-1]\n",
    "target_space = training_encoded_short2.iloc[:,6]\n",
    "\n",
    "#Set up Feature & Target Sets from Testing Data\n",
    "testing_encoded_short['IncomeBracket'] = testing_clean['IncomeBracket'].astype('object')\n",
    "testing_encoded_short2 = encode_data(testing_encoded_short)\n",
    "feature_space_test = testing_encoded_short2.iloc[:,:-1]\n",
    "target_space_test = testing_encoded_short2.iloc[:,6]\n",
    "\n",
    "#Prepare Stratified Folds\n",
    "cv_data = StratifiedKFold(target_space, n_folds=10, shuffle=False, random_state=5)"
   ]
  },
  {
   "cell_type": "markdown",
   "metadata": {
    "collapsed": true
   },
   "source": [
    "#### 1. k-Nearest Neighbour\n",
    "\n",
    "Discuss what it does and its pros/cons and why I choose this algorithm\n",
    "\n",
    "K-Nearest Neighbours is a lazy learning classification algorithm which classifies a sample by comparing it to a number, k, nearest nieghbours. It computes the distance between all the features in the set and uses it to classifies test samples. The class of the sample is determined based on the highest number of similar neighbours based on the number of neighbours choosen to look at. It is important to choose a proper k or else the algoithm may misclassify the test sample if k is too large. \n",
    "\n",
    "Pros: Handles multi class cases, easy to implement, easily tuned with flexible distances, non-parametric<br>\n",
    "Cons: Can be costly if the training set is very large. \n",
    "\n",
    "I choose this algorithm because it is used very commonly in practice and generally produces good results."
   ]
  },
  {
   "cell_type": "code",
   "execution_count": 28,
   "metadata": {},
   "outputs": [
    {
     "name": "stderr",
     "output_type": "stream",
     "text": [
      "100%|██████████| 10/10 [00:05<00:00,  1.69it/s]\n"
     ]
    },
    {
     "data": {
      "text/html": [
       "<div>\n",
       "<style>\n",
       "    .dataframe thead tr:only-child th {\n",
       "        text-align: right;\n",
       "    }\n",
       "\n",
       "    .dataframe thead th {\n",
       "        text-align: left;\n",
       "    }\n",
       "\n",
       "    .dataframe tbody tr th {\n",
       "        vertical-align: top;\n",
       "    }\n",
       "</style>\n",
       "<table border=\"1\" class=\"dataframe\">\n",
       "  <thead>\n",
       "    <tr style=\"text-align: right;\">\n",
       "      <th>Fold</th>\n",
       "      <th>0</th>\n",
       "      <th>1</th>\n",
       "      <th>2</th>\n",
       "      <th>3</th>\n",
       "      <th>4</th>\n",
       "      <th>5</th>\n",
       "      <th>6</th>\n",
       "      <th>7</th>\n",
       "      <th>8</th>\n",
       "      <th>9</th>\n",
       "      <th>Average</th>\n",
       "      <th>Variance</th>\n",
       "      <th>Std. Dev.</th>\n",
       "    </tr>\n",
       "  </thead>\n",
       "  <tbody>\n",
       "    <tr>\n",
       "      <th>Score</th>\n",
       "      <td>0.766652</td>\n",
       "      <td>0.77361</td>\n",
       "      <td>0.772727</td>\n",
       "      <td>0.772286</td>\n",
       "      <td>0.775375</td>\n",
       "      <td>0.778464</td>\n",
       "      <td>0.767329</td>\n",
       "      <td>0.769435</td>\n",
       "      <td>0.768993</td>\n",
       "      <td>0.784452</td>\n",
       "      <td>0.772932</td>\n",
       "      <td>0.00003</td>\n",
       "      <td>0.005465</td>\n",
       "    </tr>\n",
       "  </tbody>\n",
       "</table>\n",
       "</div>"
      ],
      "text/plain": [
       "Fold          0        1         2         3         4         5         6  \\\n",
       "Score  0.766652  0.77361  0.772727  0.772286  0.775375  0.778464  0.767329   \n",
       "\n",
       "Fold          7         8         9   Average  Variance  Std. Dev.  \n",
       "Score  0.769435  0.768993  0.784452  0.772932   0.00003   0.005465  "
      ]
     },
     "execution_count": 28,
     "metadata": {},
     "output_type": "execute_result"
    },
    {
     "name": "stdout",
     "output_type": "stream",
     "text": [
      "time: 5.98 s\n"
     ]
    }
   ],
   "source": [
    "#Initialize the KNN Model (Default)\n",
    "KNN = neighbors.KNeighborsClassifier()\n",
    "\n",
    "#Train & Test kNN Model Using 10-Fold Train/Test Data\n",
    "scores = []\n",
    "for train_index, test_index in tqdm(cv_data):\n",
    "        kNN_Model = KNN.fit(feature_space.iloc[train_index], target_space.iloc[train_index])\n",
    "        scores.append(kNN_Model.score(feature_space.iloc[test_index], target_space.iloc[test_index]))\n",
    "        \n",
    "#Display Scores in Dataframe\n",
    "scores = pd.DataFrame([scores], index = ['Score']).rename_axis('Fold', axis='columns')\n",
    "average = scores.mean(axis=1)\n",
    "variance = scores.var(axis=1)\n",
    "scores['Average'] = average\n",
    "scores['Variance'] = variance\n",
    "scores['Std. Dev.'] = math.sqrt(variance)\n",
    "scores\n"
   ]
  },
  {
   "cell_type": "markdown",
   "metadata": {},
   "source": [
    "Results: Average Accuracy = 77.29%, Variance = 0.00003, Std. Dev. = 0.005465"
   ]
  },
  {
   "cell_type": "markdown",
   "metadata": {},
   "source": [
    "#### 2. Logisitc Regression\n",
    "\n",
    "Logisitc regression is another very common classification algorithm. It uses the logit function probability scores to measure the relationship between a categorical dependent variable and one or more independanet variables.   \n",
    "\n",
    "Pros: Independent variables can be categorical, does not need to be normally distributed data\n",
    "Cons: Requires a large sample size\n",
    "\n",
    "I chose this algorithm to compare to kNN because they both are the most commonly used mahcine learning methods and knowing the accuracy of each would be interesting. "
   ]
  },
  {
   "cell_type": "code",
   "execution_count": 43,
   "metadata": {},
   "outputs": [
    {
     "name": "stderr",
     "output_type": "stream",
     "text": [
      "100%|██████████| 10/10 [00:04<00:00,  2.19it/s]\n"
     ]
    },
    {
     "data": {
      "text/html": [
       "<div>\n",
       "<style>\n",
       "    .dataframe thead tr:only-child th {\n",
       "        text-align: right;\n",
       "    }\n",
       "\n",
       "    .dataframe thead th {\n",
       "        text-align: left;\n",
       "    }\n",
       "\n",
       "    .dataframe tbody tr th {\n",
       "        vertical-align: top;\n",
       "    }\n",
       "</style>\n",
       "<table border=\"1\" class=\"dataframe\">\n",
       "  <thead>\n",
       "    <tr style=\"text-align: right;\">\n",
       "      <th>Fold</th>\n",
       "      <th>0</th>\n",
       "      <th>1</th>\n",
       "      <th>2</th>\n",
       "      <th>3</th>\n",
       "      <th>4</th>\n",
       "      <th>5</th>\n",
       "      <th>6</th>\n",
       "      <th>7</th>\n",
       "      <th>8</th>\n",
       "      <th>9</th>\n",
       "      <th>Average</th>\n",
       "      <th>Variance</th>\n",
       "      <th>Std. Dev.</th>\n",
       "    </tr>\n",
       "  </thead>\n",
       "  <tbody>\n",
       "    <tr>\n",
       "      <th>Score</th>\n",
       "      <td>0.765329</td>\n",
       "      <td>0.763901</td>\n",
       "      <td>0.770962</td>\n",
       "      <td>0.769197</td>\n",
       "      <td>0.766108</td>\n",
       "      <td>0.77361</td>\n",
       "      <td>0.766004</td>\n",
       "      <td>0.768551</td>\n",
       "      <td>0.769435</td>\n",
       "      <td>0.780035</td>\n",
       "      <td>0.769313</td>\n",
       "      <td>0.000023</td>\n",
       "      <td>0.004751</td>\n",
       "    </tr>\n",
       "  </tbody>\n",
       "</table>\n",
       "</div>"
      ],
      "text/plain": [
       "Fold          0         1         2         3         4        5         6  \\\n",
       "Score  0.765329  0.763901  0.770962  0.769197  0.766108  0.77361  0.766004   \n",
       "\n",
       "Fold          7         8         9   Average  Variance  Std. Dev.  \n",
       "Score  0.768551  0.769435  0.780035  0.769313  0.000023   0.004751  "
      ]
     },
     "execution_count": 43,
     "metadata": {},
     "output_type": "execute_result"
    },
    {
     "name": "stdout",
     "output_type": "stream",
     "text": [
      "time: 4.61 s\n"
     ]
    }
   ],
   "source": [
    "#Initialize the Model (Default)\n",
    "LR = LogisticRegression()\n",
    "\n",
    "#Train & Test Model Using 10-Fold Train/Test Data\n",
    "scores = []\n",
    "for train_index, test_index in tqdm(cv_data):\n",
    "        LR_Model = LR.fit(feature_space.iloc[train_index], target_space.iloc[train_index])\n",
    "        scores.append(LR_Model.score(feature_space.iloc[test_index], target_space.iloc[test_index]))\n",
    "        \n",
    "#Display Scores in Dataframe\n",
    "scores = pd.DataFrame([scores], index = ['Score']).rename_axis('Fold', axis='columns')\n",
    "average = scores.mean(axis=1)\n",
    "variance = scores.var(axis=1)\n",
    "scores['Average'] = average\n",
    "scores['Variance'] = variance\n",
    "scores['Std. Dev.'] = math.sqrt(variance)\n",
    "scores"
   ]
  },
  {
   "cell_type": "markdown",
   "metadata": {},
   "source": [
    "Results: Average Accuracy = 76.93%, Variance = 0.000023, Std. Dev. = 0.004751 "
   ]
  },
  {
   "cell_type": "markdown",
   "metadata": {},
   "source": [
    "#### 3. XGBoost (Ensemble)\n",
    "\n",
    "XGBoost uses gradient boosted decision tree algorithm to improve the speed and performance. It is another ensemble technique that adds models to correct for errors from previous models. Gradient boosting is used to predict residuals of errors of previous models and adjusts the final prediction.  \n",
    "\n",
    "Pros: Faster then just gradient boosting"
   ]
  },
  {
   "cell_type": "code",
   "execution_count": 95,
   "metadata": {},
   "outputs": [
    {
     "name": "stderr",
     "output_type": "stream",
     "text": [
      "100%|██████████| 10/10 [00:27<00:00,  2.72s/it]\n"
     ]
    },
    {
     "data": {
      "text/html": [
       "<div>\n",
       "<style>\n",
       "    .dataframe thead tr:only-child th {\n",
       "        text-align: right;\n",
       "    }\n",
       "\n",
       "    .dataframe thead th {\n",
       "        text-align: left;\n",
       "    }\n",
       "\n",
       "    .dataframe tbody tr th {\n",
       "        vertical-align: top;\n",
       "    }\n",
       "</style>\n",
       "<table border=\"1\" class=\"dataframe\">\n",
       "  <thead>\n",
       "    <tr style=\"text-align: right;\">\n",
       "      <th>Fold</th>\n",
       "      <th>0</th>\n",
       "      <th>1</th>\n",
       "      <th>2</th>\n",
       "      <th>3</th>\n",
       "      <th>4</th>\n",
       "      <th>5</th>\n",
       "      <th>6</th>\n",
       "      <th>7</th>\n",
       "      <th>8</th>\n",
       "      <th>9</th>\n",
       "      <th>Average</th>\n",
       "      <th>Variance</th>\n",
       "      <th>Std. Dev.</th>\n",
       "    </tr>\n",
       "  </thead>\n",
       "  <tbody>\n",
       "    <tr>\n",
       "      <th>Score</th>\n",
       "      <td>0.803705</td>\n",
       "      <td>0.806708</td>\n",
       "      <td>0.807149</td>\n",
       "      <td>0.805825</td>\n",
       "      <td>0.806267</td>\n",
       "      <td>0.80759</td>\n",
       "      <td>0.803091</td>\n",
       "      <td>0.801678</td>\n",
       "      <td>0.806095</td>\n",
       "      <td>0.806979</td>\n",
       "      <td>0.805509</td>\n",
       "      <td>0.000004</td>\n",
       "      <td>0.001984</td>\n",
       "    </tr>\n",
       "  </tbody>\n",
       "</table>\n",
       "</div>"
      ],
      "text/plain": [
       "Fold          0         1         2         3         4        5         6  \\\n",
       "Score  0.803705  0.806708  0.807149  0.805825  0.806267  0.80759  0.803091   \n",
       "\n",
       "Fold          7         8         9   Average  Variance  Std. Dev.  \n",
       "Score  0.801678  0.806095  0.806979  0.805509  0.000004   0.001984  "
      ]
     },
     "execution_count": 95,
     "metadata": {},
     "output_type": "execute_result"
    },
    {
     "name": "stdout",
     "output_type": "stream",
     "text": [
      "time: 27.2 s\n"
     ]
    }
   ],
   "source": [
    "#Initialize the Model (Default)\n",
    "XGB = XGBClassifier()\n",
    "\n",
    "#Train & Test Model Using 10-Fold Train/Test Data\n",
    "scores = []\n",
    "for train_index, test_index in tqdm(cv_data):\n",
    "        XGB_Model = XGB.fit(feature_space.iloc[train_index], target_space.iloc[train_index])\n",
    "        scores.append(XGB_Model.score(feature_space.iloc[test_index], target_space.iloc[test_index]))\n",
    "        \n",
    "#Display Scores in Dataframe\n",
    "scores = pd.DataFrame([scores], index = ['Score']).rename_axis('Fold', axis='columns')\n",
    "average = scores.mean(axis=1)\n",
    "avg_xgb_train = average\n",
    "variance = scores.var(axis=1)\n",
    "scores['Average'] = average\n",
    "scores['Variance'] = variance\n",
    "scores['Std. Dev.'] = math.sqrt(variance)\n",
    "scores"
   ]
  },
  {
   "cell_type": "markdown",
   "metadata": {},
   "source": [
    "Results: Average Accuracy = 80.55%, Variance = 0.000004, Std. Dev. = 0.001984 "
   ]
  },
  {
   "cell_type": "code",
   "execution_count": 88,
   "metadata": {},
   "outputs": [
    {
     "data": {
      "text/plain": [
       "0.79419828424869554"
      ]
     },
     "execution_count": 88,
     "metadata": {},
     "output_type": "execute_result"
    },
    {
     "name": "stdout",
     "output_type": "stream",
     "text": [
      "time: 158 ms\n"
     ]
    }
   ],
   "source": [
    "#Run on Test Data Set\n",
    "test_pred = XGB_Model.predict(feature_space_test)\n",
    "accuracy_score(target_space_test, test_pred)"
   ]
  },
  {
   "cell_type": "markdown",
   "metadata": {},
   "source": [
    "#### 4. Random Forest (Ensemble)\n",
    "\n",
    "The Random Forest method is an ensemble learning method the creates multiple decision trees for training and uses the mode for classification of the individual trees. The purpose of random forest is to overcome overfitting during training which occurs in a single decision tree. This method uses full decision tree's so it has low bias but high variance, it attempts to reduce variance by using the mode of a collection of random tree's.\n",
    "\n",
    "Pros: Very fast and scalable, reduces variance over single decision tree<br>\n",
    "Cons: Accuracy of individual trees must be high to have a god result\n",
    "\n",
    "I chose this algorithm to compare to the XGBoost algorithm which uses decision trees as it's basis. I expect the XGBoost to be an improvement over random forest. "
   ]
  },
  {
   "cell_type": "code",
   "execution_count": 45,
   "metadata": {},
   "outputs": [
    {
     "name": "stderr",
     "output_type": "stream",
     "text": [
      "100%|██████████| 10/10 [00:02<00:00,  4.81it/s]\n"
     ]
    },
    {
     "data": {
      "text/html": [
       "<div>\n",
       "<style>\n",
       "    .dataframe thead tr:only-child th {\n",
       "        text-align: right;\n",
       "    }\n",
       "\n",
       "    .dataframe thead th {\n",
       "        text-align: left;\n",
       "    }\n",
       "\n",
       "    .dataframe tbody tr th {\n",
       "        vertical-align: top;\n",
       "    }\n",
       "</style>\n",
       "<table border=\"1\" class=\"dataframe\">\n",
       "  <thead>\n",
       "    <tr style=\"text-align: right;\">\n",
       "      <th>Fold</th>\n",
       "      <th>0</th>\n",
       "      <th>1</th>\n",
       "      <th>2</th>\n",
       "      <th>3</th>\n",
       "      <th>4</th>\n",
       "      <th>5</th>\n",
       "      <th>6</th>\n",
       "      <th>7</th>\n",
       "      <th>8</th>\n",
       "      <th>9</th>\n",
       "      <th>Average</th>\n",
       "      <th>Variance</th>\n",
       "      <th>Std. Dev.</th>\n",
       "    </tr>\n",
       "  </thead>\n",
       "  <tbody>\n",
       "    <tr>\n",
       "      <th>Score</th>\n",
       "      <td>0.757389</td>\n",
       "      <td>0.759929</td>\n",
       "      <td>0.760812</td>\n",
       "      <td>0.768314</td>\n",
       "      <td>0.76346</td>\n",
       "      <td>0.762577</td>\n",
       "      <td>0.766887</td>\n",
       "      <td>0.765459</td>\n",
       "      <td>0.767668</td>\n",
       "      <td>0.757067</td>\n",
       "      <td>0.762956</td>\n",
       "      <td>0.000017</td>\n",
       "      <td>0.004116</td>\n",
       "    </tr>\n",
       "  </tbody>\n",
       "</table>\n",
       "</div>"
      ],
      "text/plain": [
       "Fold          0         1         2         3        4         5         6  \\\n",
       "Score  0.757389  0.759929  0.760812  0.768314  0.76346  0.762577  0.766887   \n",
       "\n",
       "Fold          7         8         9   Average  Variance  Std. Dev.  \n",
       "Score  0.765459  0.767668  0.757067  0.762956  0.000017   0.004116  "
      ]
     },
     "execution_count": 45,
     "metadata": {},
     "output_type": "execute_result"
    },
    {
     "name": "stdout",
     "output_type": "stream",
     "text": [
      "time: 2.14 s\n"
     ]
    }
   ],
   "source": [
    "#Initialize the Model (Default)\n",
    "RF = RandomForestClassifier()\n",
    "\n",
    "#Train & Test Model Using 10-Fold Train/Test Data\n",
    "scores = []\n",
    "for train_index, test_index in tqdm(cv_data):\n",
    "        RF_Model = RF.fit(feature_space.iloc[train_index], target_space.iloc[train_index])\n",
    "        scores.append(RF_Model.score(feature_space.iloc[test_index], target_space.iloc[test_index]))\n",
    "        \n",
    "#Display Scores in Dataframe\n",
    "scores = pd.DataFrame([scores], index = ['Score']).rename_axis('Fold', axis='columns')\n",
    "average = scores.mean(axis=1)\n",
    "variance = scores.var(axis=1)\n",
    "scores['Average'] = average\n",
    "scores['Variance'] = variance\n",
    "scores['Std. Dev.'] = math.sqrt(variance)\n",
    "scores"
   ]
  },
  {
   "cell_type": "markdown",
   "metadata": {},
   "source": [
    "Results: Average Accuracy = 76.06%, Variance = 0.000039, Std. Dev. = 0.004116 "
   ]
  },
  {
   "cell_type": "markdown",
   "metadata": {},
   "source": [
    "#### 5. Decision Tree Classifier (Extra)"
   ]
  },
  {
   "cell_type": "code",
   "execution_count": 17,
   "metadata": {},
   "outputs": [
    {
     "name": "stderr",
     "output_type": "stream",
     "text": [
      "100%|██████████| 10/10 [00:00<00:00, 17.00it/s]\n"
     ]
    },
    {
     "data": {
      "text/html": [
       "<div>\n",
       "<style>\n",
       "    .dataframe thead tr:only-child th {\n",
       "        text-align: right;\n",
       "    }\n",
       "\n",
       "    .dataframe thead th {\n",
       "        text-align: left;\n",
       "    }\n",
       "\n",
       "    .dataframe tbody tr th {\n",
       "        vertical-align: top;\n",
       "    }\n",
       "</style>\n",
       "<table border=\"1\" class=\"dataframe\">\n",
       "  <thead>\n",
       "    <tr style=\"text-align: right;\">\n",
       "      <th>Fold</th>\n",
       "      <th>0</th>\n",
       "      <th>1</th>\n",
       "      <th>2</th>\n",
       "      <th>3</th>\n",
       "      <th>4</th>\n",
       "      <th>5</th>\n",
       "      <th>6</th>\n",
       "      <th>7</th>\n",
       "      <th>8</th>\n",
       "      <th>9</th>\n",
       "      <th>Average</th>\n",
       "      <th>Variance</th>\n",
       "      <th>Std. Dev.</th>\n",
       "    </tr>\n",
       "  </thead>\n",
       "  <tbody>\n",
       "    <tr>\n",
       "      <th>Score</th>\n",
       "      <td>0.731804</td>\n",
       "      <td>0.733451</td>\n",
       "      <td>0.725508</td>\n",
       "      <td>0.738747</td>\n",
       "      <td>0.72639</td>\n",
       "      <td>0.724184</td>\n",
       "      <td>0.739514</td>\n",
       "      <td>0.737191</td>\n",
       "      <td>0.741608</td>\n",
       "      <td>0.727032</td>\n",
       "      <td>0.732543</td>\n",
       "      <td>0.000042</td>\n",
       "      <td>0.006496</td>\n",
       "    </tr>\n",
       "  </tbody>\n",
       "</table>\n",
       "</div>"
      ],
      "text/plain": [
       "Fold          0         1         2         3        4         5         6  \\\n",
       "Score  0.731804  0.733451  0.725508  0.738747  0.72639  0.724184  0.739514   \n",
       "\n",
       "Fold          7         8         9   Average  Variance  Std. Dev.  \n",
       "Score  0.737191  0.741608  0.727032  0.732543  0.000042   0.006496  "
      ]
     },
     "execution_count": 17,
     "metadata": {},
     "output_type": "execute_result"
    },
    {
     "name": "stdout",
     "output_type": "stream",
     "text": [
      "time: 640 ms\n"
     ]
    }
   ],
   "source": [
    "#Initialize the Model (Default)\n",
    "DT = DecisionTreeClassifier()\n",
    "\n",
    "#Train & Test Model Using 10-Fold Train/Test Data\n",
    "scores = []\n",
    "for train_index, test_index in tqdm(cv_data):\n",
    "        DT_Model = DT.fit(feature_space.iloc[train_index], target_space.iloc[train_index])\n",
    "        scores.append(DT_Model.score(feature_space.iloc[test_index], target_space.iloc[test_index]))\n",
    "        \n",
    "#Display Scores in Dataframe\n",
    "scores = pd.DataFrame([scores], index = ['Score']).rename_axis('Fold', axis='columns')\n",
    "average = scores.mean(axis=1)\n",
    "variance = scores.var(axis=1)\n",
    "scores['Average'] = average\n",
    "scores['Variance'] = variance\n",
    "scores['Std. Dev.'] = math.sqrt(variance)\n",
    "scores"
   ]
  },
  {
   "cell_type": "markdown",
   "metadata": {},
   "source": [
    "Results: Average Accuracy = 73.35%, Variance = 0.000047, Std. Dev. = 0.006507"
   ]
  },
  {
   "cell_type": "markdown",
   "metadata": {},
   "source": [
    "<u>Discussion</u>\n",
    "\n",
    "All the models performed quite well using the ten-fold training method.  The lowest score was 73% for the Decision Tree classifier and the highest score was the XGBoost algorithm at 80.5%. Not only did it have the best accuracy, the XGBoost algorithm also had the lowest standard deviation among all five algorithms implemented above. <br>\n",
    "\n",
    "Unsurpirsingly, the XGBoost algorithm performed the slowest among all methods as it is most computationally intensive. The fastest method was Decision Trees followed closely by Random Forest (being an extension of Decision Trees).\n",
    "\n",
    "Bias-Variance Trade-off....\n",
    "\n",
    "Compare the model performance based on variance and mean score... which is the best and why do I think so."
   ]
  },
  {
   "cell_type": "markdown",
   "metadata": {},
   "source": [
    "## 5. Model Tuning"
   ]
  },
  {
   "cell_type": "markdown",
   "metadata": {},
   "source": [
    "Model Tuning is conducted on each of the algorithms above to try and improve the score. Grid search is used to detremine the final optimal parameters and model.\n"
   ]
  },
  {
   "cell_type": "markdown",
   "metadata": {},
   "source": [
    "#### 1. k-Nearest Neighbours Parameter Tuning\n",
    "\n",
    "kNN has a few parameters that can be tuned including the number of neighbours 'k', the distance metric used between samples, the leaf size, the distance weights and algorithm used to determine the nearest neighbour."
   ]
  },
  {
   "cell_type": "code",
   "execution_count": 28,
   "metadata": {},
   "outputs": [
    {
     "name": "stdout",
     "output_type": "stream",
     "text": [
      "Greatest Accuracy:  0.793193255054 Optimal Parameter K:  24\n",
      "time: 5min 23s\n"
     ]
    }
   ],
   "source": [
    "#Initialize the KNN Model (Default)\n",
    "KNN = neighbors.KNeighborsClassifier()\n",
    "\n",
    "#Hyper Parameters Set\n",
    "params = {'n_neighbors':np.arange(1,30)}\n",
    "\n",
    "#Prepare Grid & Fit\n",
    "KNN_Grid = GridSearchCV(KNN, param_grid=params, cv=10, n_jobs=-1, scoring='accuracy')\n",
    "KNN_Tune = KNN_Grid.fit(feature_space, target_space)\n",
    "print('Greatest Accuracy: ', KNN_Tune.best_score_, 'Optimal Parameter K: ', KNN_Tune.best_estimator_.n_neighbors)"
   ]
  },
  {
   "cell_type": "markdown",
   "metadata": {},
   "source": [
    "Results: Best Accuracy = 0.7931, Time = 5min 23s, Optimal Parameter = 24"
   ]
  },
  {
   "cell_type": "markdown",
   "metadata": {},
   "source": [
    "#### 2. Logistic Regression Parameter Tuning\n",
    "\n",
    "The parameter C is tuned in Logisitc Regression."
   ]
  },
  {
   "cell_type": "code",
   "execution_count": 30,
   "metadata": {},
   "outputs": [
    {
     "name": "stdout",
     "output_type": "stream",
     "text": [
      "Greatest Accuracy:  0.768759195684 Optimal Parameter C:  22.201\n",
      "time: 15min 19s\n"
     ]
    }
   ],
   "source": [
    "#Initialize the Model (Default)\n",
    "LR = LogisticRegression()\n",
    "\n",
    "#Hyper Parameters Set\n",
    "params = {'C':np.arange(0.001, 30, 0.1)}\n",
    "\n",
    "#Prepare Grid & Fit\n",
    "LR_Grid = GridSearchCV(LR, param_grid=params, cv=10, n_jobs=-1, scoring='accuracy')\n",
    "LR_Tune = LR_Grid.fit(feature_space.iloc[train_index], target_space.iloc[train_index])\n",
    "print('Greatest Accuracy: ', LR_Tune.best_score_, 'Optimal Parameter C: ', LR_Tune.best_estimator_.C)"
   ]
  },
  {
   "cell_type": "markdown",
   "metadata": {},
   "source": [
    "Results: Best Accuracy = 0.7687, Time = 15min 19s, Optimal Parameter = 22.201"
   ]
  },
  {
   "cell_type": "markdown",
   "metadata": {},
   "source": [
    "#### 3. XGBoost Parameter Tuning\n",
    "\n",
    "The tuning parameters for XGBoost is the number of iterators and depth."
   ]
  },
  {
   "cell_type": "code",
   "execution_count": 108,
   "metadata": {},
   "outputs": [
    {
     "name": "stdout",
     "output_type": "stream",
     "text": [
      "Greatest Accuracy:  0.808239333006 Optimal Parameter n_est:  100 Optimal Parameter Depth:  6\n",
      "time: 1min 55s\n"
     ]
    }
   ],
   "source": [
    "#Initialize the Model (Default)\n",
    "XGB = XGBClassifier()\n",
    "\n",
    "#Hyper Parameters Set\n",
    "#params = {'n_estimators':np.arange(100, 300), 'max_depth':np.arange(1, 5)}\n",
    "params = {'max_depth':np.arange(3, 8)}\n",
    "\n",
    "#Prepare Grid & Fit\n",
    "XGB_Grid = GridSearchCV(XGB, param_grid=params, cv=10, n_jobs=-1, scoring='accuracy')\n",
    "XGB_Tune = XGB_Grid.fit(feature_space.iloc[train_index], target_space.iloc[train_index])\n",
    "print('Greatest Accuracy: ', XGB_Tune.best_score_, 'Optimal Parameter n_est: ', XGB_Tune.best_estimator_.n_estimators, 'Optimal Parameter Depth: ', XGB_Tune.best_estimator_.max_depth)"
   ]
  },
  {
   "cell_type": "markdown",
   "metadata": {},
   "source": [
    "Results: Best Accuracy = 0.8082, Time = 18min 19s, Optimal Parameter = 100, Depth = 5"
   ]
  },
  {
   "cell_type": "markdown",
   "metadata": {},
   "source": [
    "#### 4. Random Forest Parameter Tuning\n",
    "\n",
    "The tuning parameter of the Random Forest method is the depth of the forest."
   ]
  },
  {
   "cell_type": "code",
   "execution_count": 114,
   "metadata": {},
   "outputs": [
    {
     "name": "stdout",
     "output_type": "stream",
     "text": [
      "Highest Accuracy:  0.802595568112 Best Depth:  10 Best Estimators:  9\n",
      "time: 3min 56s\n"
     ]
    }
   ],
   "source": [
    "#Initialize the Model (Default)\n",
    "RF = RandomForestClassifier()\n",
    "\n",
    "#Set Tuning Parameter\n",
    "#params = {'max_depth':np.linspace(2, 1, 100)}\n",
    "params = {'n_estimators': [4, 6, 9], \n",
    "              'max_features': ['log2', 'sqrt','auto'], \n",
    "              'criterion': ['entropy', 'gini'],\n",
    "              'max_depth': [2, 3, 5, 10], \n",
    "              'min_samples_split': [2, 3, 5],\n",
    "              'min_samples_leaf': [1,5,8]\n",
    "             }\n",
    "\n",
    "#Create Grid\n",
    "RF_Grid = GridSearchCV(RF, param_grid=params, cv=10, n_jobs=-1)\n",
    "RF_Tune = RF_Grid.fit(feature_space, target_space)\n",
    "\n",
    "print('Highest Accuracy: ', RF_Tune.best_score_, 'Best Depth: ', RF_Tune.best_estimator_.max_depth, 'Best Estimators: ', RF_Tune.best_estimator_.n_estimators)"
   ]
  },
  {
   "cell_type": "markdown",
   "metadata": {},
   "source": [
    "Results: Best Accuracy = 0.8024, Time = 4min 1s, Optimal Depth = 10, Estimators = 9"
   ]
  },
  {
   "cell_type": "markdown",
   "metadata": {},
   "source": [
    "#### 5. Decision Tree Parameter Tuning"
   ]
  },
  {
   "cell_type": "code",
   "execution_count": 24,
   "metadata": {},
   "outputs": [
    {
     "name": "stdout",
     "output_type": "stream",
     "text": [
      "Highest Accuracy:  0.790941996998\n",
      "Best Depth:  4\n",
      "Best Samples:  323\n",
      "time: 32.9 s\n"
     ]
    }
   ],
   "source": [
    "#Initialize the Model (Default)\n",
    "DT = DecisionTreeClassifier()\n",
    "\n",
    "#Set Tuning Parameter\n",
    "params = {'max_depth':np.arange(3, 8), 'min_samples_leaf':np.arange(300, 350)}\n",
    "\n",
    "#Create Grid\n",
    "DT_Grid = GridSearchCV(DT, param_grid=params, cv=10, n_jobs=-1)\n",
    "\n",
    "#Train & Test Model Using 10-Fold Train/Test Data\n",
    "DT_Tune = DT_Grid.fit(feature_space, target_space)\n",
    "\n",
    "print('Highest Accuracy: ', DT_Tune.best_score_)\n",
    "print('Best Depth: ', DT_Tune.best_estimator_.max_depth)\n",
    "print('Best Samples: ', DT_Tune.best_estimator_.min_samples_leaf)"
   ]
  },
  {
   "cell_type": "markdown",
   "metadata": {},
   "source": [
    "Results: Best Accuracy = 0.7909, Time = 1 min 8s, Optimal Depth = 4, Optimal Samples Leaf: 323"
   ]
  },
  {
   "cell_type": "markdown",
   "metadata": {},
   "source": [
    "## 6. Testing & Discussion\n",
    "\n",
    "The model with the highest accuracy based on the tuned models is used to classify the testing data set. The accuracy of the model on the testing data is presented to validate the model. \n",
    "\n",
    "The Tuned XGB model had the best accuracy at 80% with the trained model. A new model is created with the optimal tuned parameters and it is applied to the testing set to predict the targets. "
   ]
  },
  {
   "cell_type": "code",
   "execution_count": 124,
   "metadata": {},
   "outputs": [
    {
     "name": "stdout",
     "output_type": "stream",
     "text": [
      "Test-Set Accuracy: Score    0.796674626338 \n",
      "Training Accuracy: 0.808239333006\n",
      "time: 6 s\n"
     ]
    }
   ],
   "source": [
    "#Set Up Model with Optimal Parameters\n",
    "XGB2 = XGBClassifier(n_estimators = 100, max_depth = 5)\n",
    "\n",
    "#Train The Model Again with Optimal Parameters\n",
    "XGB_Model_Tuned = XGB2.fit(feature_space, target_space)\n",
    "\n",
    "#Predict Targets from Testing Data Feature Space\n",
    "XGB_Tune_Predic_Test = XGB_Model_Tuned.predict(feature_space_test)\n",
    "\n",
    "#Score the Models Performance\n",
    "xgb_test_score = accuracy_score(target_space_test, XGB_Tune_Predic_Test)\n",
    "print('Test-Set Accuracy: Score   ', xgb_test_score, '\\nTraining Accuracy:', XGB_Tune.best_score_)"
   ]
  },
  {
   "cell_type": "markdown",
   "metadata": {},
   "source": [
    "Results: Accuracy = 0.7966, Time = 4.51s"
   ]
  },
  {
   "cell_type": "code",
   "execution_count": 169,
   "metadata": {
    "scrolled": false
   },
   "outputs": [
    {
     "data": {
      "text/plain": [
       "<module 'matplotlib.pyplot' from 'C:\\\\Users\\\\Hello\\\\Anaconda3\\\\lib\\\\site-packages\\\\matplotlib\\\\pyplot.py'>"
      ]
     },
     "execution_count": 169,
     "metadata": {},
     "output_type": "execute_result"
    },
    {
     "data": {
      "image/png": "[encoded data removed]",
      "text/plain": [
       "<matplotlib.figure.Figure at 0x1f7eb307c18>"
      ]
     },
     "metadata": {},
     "output_type": "display_data"
    },
    {
     "name": "stdout",
     "output_type": "stream",
     "text": [
      "time: 1min 19s\n"
     ]
    }
   ],
   "source": [
    "#Learning Curve of Model \n",
    "plot_learning_curve(XGB_Model_Tuned, 'XGB Algorithm Learning Curve', feature_space, target_space, cv=10)"
   ]
  },
  {
   "cell_type": "code",
   "execution_count": 123,
   "metadata": {},
   "outputs": [
    {
     "name": "stdout",
     "output_type": "stream",
     "text": [
      "Test-Set Accuracy: Score    0.79092597506 \n",
      "Training Accuracy: 0.802595568112\n",
      "time: 175 ms\n"
     ]
    }
   ],
   "source": [
    "#Check Randome Forest Method for Comparison\n",
    "#Set Up Model with Optimal Parameters\n",
    "RF2 = RandomForestClassifier(n_estimators = 9, max_depth = 10 )\n",
    "\n",
    "#Train The Model Again with Optimal Parameters\n",
    "RF_Model_Tuned = RF2.fit(feature_space, target_space)\n",
    "\n",
    "#Predict Targets \n",
    "RF_Tune_Predic_Test = RF_Model_Tuned.predict(feature_space_test)\n",
    "\n",
    "#Score the Models Performance\n",
    "rf_test_score = accuracy_score(target_space_test, RF_Tune_Predic_Test)\n",
    "print('Test-Set Accuracy: Score   ', rf_test_score, '\\nTraining Accuracy:', RF_Tune.best_score_)"
   ]
  },
  {
   "cell_type": "markdown",
   "metadata": {},
   "source": [
    "#### Discussion"
   ]
  },
  {
   "cell_type": "markdown",
   "metadata": {},
   "source": [
    "The outcome of the best model with the testing data is 79.8%. This is right inline with the accuracy of the model with the training set, 80.6%, which is a good outcome. Any discrepancy would be caused by overfitting of the training data during training, so I expect this accuracy to be lower. \n",
    "\n",
    "Before the model is tuned, the testing data had an accuracy of 79%. Using the tuned model improved the performance a small amount, by approximately 1%. Much better improvements after tuning can be see with other methods, most notably with Random Forest which had an improvement ofa bout 4%. The tuned random forest was the second best mondel at 80.2%. I also ran this model to predict the test data outcome and found its performance to be equivalent accuracy of 79.2%. \n",
    "\n",
    "The learning curve of the tuned XGB model provides insight into the bias-variance trade-off. The learning cuvre shows a high degree if sepration between the training score and cross-validation score which indicates a higher variance which in turns indicates a lower bias. The chart reveals that some overfitting is occuring and either more training data should be used or the paramters adjusted again to reduce the depth. I decreased the the maximum depth from 5 to 3 in the XGB which reduced the accuracy by a very marginal amount, less then 1% to 79.3% from 79.6%, but it decreased the variance in the model signifcantly producing a more bias. \n",
    "\n",
    "Generlly, the XGBoost training model reduced accuracy with more samples but this reduced variance in the model. Since the training curve and testing curve appear to be leveling out around 20,000 samples, it gives us a good idea that the model has learned all that it can from the data. A high-variance model is bad and a high bias model is bad so it is important to find the right balance of both in the model. The goal is to generalize the data, so a training curve and testing curve that plateau around the same time near each other is ideal. In this case, the XGB curves do level off at approxiamtely 80% accuracy mark which is an acceptaple fit. \n",
    "\n",
    "Another way to reduce the variance of the model could be to reduce the complexity of the features or remove some features altogether. I removed the two variables created above and focused on 4 variables from the original set. In this case, the model did not improve in accuracy, ir reduced by 5%, but the variance was reduced dramatically. Although this was a desirable goal, the resulting model is also not acceptable due to the very hig bias in the system now. Based on the scree plot in the feature engineering section above, we should have at least 5-6 features. This reduced model only has 3 features and this is indicative through the high bias which is reached early on in the training."
   ]
  },
  {
   "cell_type": "code",
   "execution_count": 170,
   "metadata": {},
   "outputs": [
    {
     "name": "stdout",
     "output_type": "stream",
     "text": [
      "Test-Set Accuracy: Score    0.75899885027 \n",
      "Training Accuracy: 0.808239333006\n",
      "time: 1.27 s\n"
     ]
    }
   ],
   "source": [
    "#Reduce Feature Set Test\n",
    "feature_space_red = feature_space_test.iloc[:,:-2]\n",
    "\n",
    "#Set Up Model with Optimal Parameters\n",
    "XGB2 = XGBClassifier(n_estimators = 100, max_depth = 3)\n",
    "\n",
    "#Train The Model Again with Optimal Parameters\n",
    "XGB_Model_Tuned = XGB2.fit( feature_space_red, target_space_test )\n",
    "\n",
    "#Predict Targets from Testing Data Feature Space\n",
    "XGB_Tune_Predic_Test = XGB_Model_Tuned.predict( feature_space_red )\n",
    "\n",
    "#Score the Models Performance\n",
    "xgb_test_score2 = accuracy_score(target_space_test, XGB_Tune_Predic_Test)\n",
    "print('Test-Set Accuracy: Score   ', xgb_test_score2, '\\nTraining Accuracy:', XGB_Tune.best_score_)"
   ]
  },
  {
   "cell_type": "code",
   "execution_count": 171,
   "metadata": {},
   "outputs": [
    {
     "data": {
      "text/plain": [
       "<module 'matplotlib.pyplot' from 'C:\\\\Users\\\\Hello\\\\Anaconda3\\\\lib\\\\site-packages\\\\matplotlib\\\\pyplot.py'>"
      ]
     },
     "execution_count": 171,
     "metadata": {},
     "output_type": "execute_result"
    },
    {
     "data": {
      "image/png": "[encoded data removed]",
      "text/plain": [
       "<matplotlib.figure.Figure at 0x1f7ea052208>"
      ]
     },
     "metadata": {},
     "output_type": "display_data"
    },
    {
     "name": "stdout",
     "output_type": "stream",
     "text": [
      "time: 32.1 s\n"
     ]
    }
   ],
   "source": [
    "#Learning Curve of Model of XGB with Reduced Feature Set\n",
    "plot_learning_curve(XGB_Model_Tuned, 'XGB Algorithm Learning Curve - Reduced Feature Set (3)', feature_space_red, target_space_test, cv=10)"
   ]
  },
  {
   "cell_type": "markdown",
   "metadata": {},
   "source": [
    "#### Overall Conclusions\n",
    "\n",
    "A properly tuned XGBoost algorithm is well known to have one of the best results and is confirmed through this analysis. This assignment was very insightful in learning how to tune different algorithms and how to compare there performances. "
   ]
  }
 ],
 "metadata": {
  "kernelspec": {
   "display_name": "Python 3",
   "language": "python",
   "name": "python3"
  },
  "language_info": {
   "codemirror_mode": {
    "name": "ipython",
    "version": 3
   },
   "file_extension": ".py",
   "mimetype": "text/x-python",
   "name": "python",
   "nbconvert_exporter": "python",
   "pygments_lexer": "ipython3",
   "version": "3.6.3"
  },
  "widgets": {
   "state": {},
   "version": "1.1.2"
  }
 },
 "nbformat": 4,
 "nbformat_minor": 2
}
